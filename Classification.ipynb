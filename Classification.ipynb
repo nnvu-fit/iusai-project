{
 "cells": [
  {
   "cell_type": "markdown",
   "id": "7c98c9f8",
   "metadata": {},
   "source": []
  },
  {
   "cell_type": "markdown",
   "id": "8f0af9de",
   "metadata": {},
   "source": [
    "# Inport needed package"
   ]
  },
  {
   "cell_type": "markdown",
   "id": "19e2073d",
   "metadata": {},
   "source": [
    "- import os, sys # to add the parent directory to the path"
   ]
  },
  {
   "cell_type": "code",
   "execution_count": 1,
   "id": "eb6f3365",
   "metadata": {},
   "outputs": [],
   "source": [
    "import os\n",
    "import sys\n",
    "import time"
   ]
  },
  {
   "cell_type": "markdown",
   "id": "92a0bf9d",
   "metadata": {},
   "source": [
    "- Using torchvision to create a dataset"
   ]
  },
  {
   "cell_type": "code",
   "execution_count": 2,
   "id": "84577080",
   "metadata": {},
   "outputs": [],
   "source": [
    "# Using torchvision to create a dataset\n",
    "import cv2\n",
    "from torchvision import transforms\n",
    "import torch\n",
    "from torch.utils.data import random_split, DataLoader\n",
    "import torchvision\n",
    "\n",
    "import pandas as pd"
   ]
  },
  {
   "cell_type": "markdown",
   "id": "353412ad",
   "metadata": {},
   "source": [
    "- import self library"
   ]
  },
  {
   "cell_type": "code",
   "execution_count": 3,
   "id": "eec759ec",
   "metadata": {},
   "outputs": [],
   "source": [
    "from train.trainer import ClassifierTrainer as Trainer\n",
    "import dataset as ds  # type: ignore\n",
    "import models as md  # type: ignore"
   ]
  },
  {
   "cell_type": "markdown",
   "id": "ec973ee2",
   "metadata": {},
   "source": [
    "# Define classification train process"
   ]
  },
  {
   "cell_type": "markdown",
   "id": "a872305b",
   "metadata": {},
   "source": [
    "1. Define place where the model is saved"
   ]
  },
  {
   "cell_type": "code",
   "execution_count": 4,
   "id": "c65f0f4a",
   "metadata": {},
   "outputs": [],
   "source": [
    "time_str = time.strftime(\"%Y%m%d_%H%M%S\")\n"
   ]
  },
  {
   "cell_type": "markdown",
   "id": "f5d88245",
   "metadata": {},
   "source": [
    "2. Define train function"
   ]
  },
  {
   "cell_type": "code",
   "execution_count": 5,
   "id": "554ddc4d",
   "metadata": {},
   "outputs": [],
   "source": [
    "def doTheTrain(dataset, model):\n",
    "  # define batch_size\n",
    "  batch_size = 64\n",
    "\n",
    "  # init train val test ds\n",
    "  train_val_size = int(0.8 * len(dataset))\n",
    "  test_size = len(dataset) - train_val_size\n",
    "  train_ds, test_ds = random_split(dataset, [train_val_size, test_size])\n",
    "\n",
    "  # define optimizer using Adam and loss function\n",
    "  optimizer = torch.optim.Adam(model.parameters(), lr=0.001)\n",
    "  loss_fn = torch.nn.CrossEntropyLoss()\n",
    "\n",
    "  trainer = Trainer(model, optimizer, loss_fn, random_seed_value=86)\n",
    "  print('device: ', trainer.device)\n",
    "  avg_loss, metric = trainer.cross_validate(train_ds, k=10, epochs=10, batch_size=batch_size)\n",
    "  print('avg_loss: ', avg_loss)\n",
    "\n",
    "  # score model\n",
    "  test_dataloader = DataLoader(test_ds, batch_size=batch_size, shuffle=True)\n",
    "  model_scored = trainer.score(test_dataloader)\n",
    "  print(f'model_scored: {model_scored:.4f}, avg_accuracy: {100*(1 - model_scored):.4f}')\n",
    "\n",
    "  # return model scored, train_avg_lost\n",
    "  return model_scored, avg_loss"
   ]
  },
  {
   "cell_type": "markdown",
   "id": "b2e26c06",
   "metadata": {},
   "source": [
    "3. execute progress"
   ]
  },
  {
   "cell_type": "markdown",
   "id": "20bbab88",
   "metadata": {},
   "source": [
    "- define the model"
   ]
  },
  {
   "cell_type": "code",
   "execution_count": 6,
   "id": "e2317e01",
   "metadata": {},
   "outputs": [
    {
     "name": "stderr",
     "output_type": "stream",
     "text": [
      "Downloading: \"https://download.pytorch.org/models/vgg16-397923af.pth\" to C:\\Users\\nnvuf/.cache\\torch\\hub\\checkpoints\\vgg16-397923af.pth\n",
      "100%|██████████| 528M/528M [00:55<00:00, 9.92MB/s] \n"
     ]
    }
   ],
   "source": [
    "models = [\n",
    "    torchvision.models.resnet50(weights=torchvision.models.ResNet50_Weights.DEFAULT),\n",
    "    torchvision.models.densenet121(weights=torchvision.models.DenseNet121_Weights.DEFAULT),\n",
    "    torchvision.models.vgg16(weights=torchvision.models.VGG16_Weights.DEFAULT)\n",
    "]"
   ]
  },
  {
   "cell_type": "markdown",
   "id": "af5733d5",
   "metadata": {},
   "source": [
    "- Define tested datasets"
   ]
  },
  {
   "cell_type": "code",
   "execution_count": 7,
   "id": "f6a4d5fd",
   "metadata": {},
   "outputs": [],
   "source": [
    "datasets = {\n",
    "    'gi4e_full': ds.Gi4eDataset(\n",
    "        './datasets/gi4e',\n",
    "        transform=transforms.Compose([transforms.ToPILImage(), transforms.Resize((224, 224)), transforms.ToTensor()]),\n",
    "        is_classification=True),\n",
    "    'gi4e_raw_eyes': ds.ImageDataset(\n",
    "        './datasets/gi4e_raw_eyes',\n",
    "        transform=transforms.Compose([transforms.Resize((224, 224)), transforms.ToTensor()]),\n",
    "        file_extension='png'),\n",
    "    'gi4e_detected_eyes': ds.ImageDataset(\n",
    "        './datasets/gi4e_eyes/20250521_200316',\n",
    "        transform=transforms.Compose([transforms.Resize((224, 224)), transforms.ToTensor()]),\n",
    "        file_extension='png'),\n",
    "}"
   ]
  },
  {
   "cell_type": "markdown",
   "id": "28afcf22",
   "metadata": {},
   "source": [
    "- Train all defined model on each registered datasets"
   ]
  },
  {
   "cell_type": "code",
   "execution_count": null,
   "id": "1784fdb6",
   "metadata": {},
   "outputs": [
    {
     "name": "stdout",
     "output_type": "stream",
     "text": [
      "Running gi4e_full dataset with ResNet\n",
      "device:  cuda\n",
      "Fold 1/10:\n"
     ]
    }
   ],
   "source": [
    "result_df = pd.DataFrame(columns=['dataset', 'model', 'avg_loss', 'avg_accuracy', 'total_time'])\n",
    "\n",
    "for name, dataset in datasets.items():\n",
    "\tfor model in models:\n",
    "\t\tprint(f'Running {name} dataset with {model.__class__.__name__}')\n",
    "\t\t# do the train\n",
    "\t\tstart_time = time.time()\n",
    "\t\tscored, loss = doTheTrain(dataset, model)\n",
    "\t\tend_time = time.time()\n",
    "\t\ttotal_time = end_time - start_time\n",
    "\t\tprint(f'Finished {name} dataset with {model.__class__.__name__}')\n",
    "\t\tprint('----------------------')\n",
    "\n",
    "\t\t# save the result\n",
    "\t\tresult_df = pd.concat([result_df, pd.DataFrame({\n",
    "\t\t\t'model': [model.__class__.__name__],\n",
    "\t\t\t'dataset': [name],\n",
    "\t\t\t'avg_loss': [loss],\n",
    "\t\t\t'avg_accuracy': [scored],\n",
    "\t\t\t'total_time': [total_time]\n",
    "\t\t})], ignore_index=True)\n",
    "\n",
    "print('Finished all datasets')\n",
    "\n",
    "# print the result\n",
    "print(result_df)\n",
    "\n"
   ]
  },
  {
   "cell_type": "markdown",
   "id": "1d796772",
   "metadata": {},
   "source": [
    "4. print the result"
   ]
  },
  {
   "cell_type": "code",
   "execution_count": null,
   "id": "0fca714b",
   "metadata": {},
   "outputs": [
    {
     "ename": "KeyError",
     "evalue": "\"['total_time'] not in index\"",
     "output_type": "error",
     "traceback": [
      "\u001b[1;31m---------------------------------------------------------------------------\u001b[0m",
      "\u001b[1;31mKeyError\u001b[0m                                  Traceback (most recent call last)",
      "Cell \u001b[1;32mIn[11], line 2\u001b[0m\n\u001b[0;32m      1\u001b[0m \u001b[38;5;66;03m# swap the first two columns\u001b[39;00m\n\u001b[1;32m----> 2\u001b[0m result_df \u001b[38;5;241m=\u001b[39m \u001b[43mresult_df\u001b[49m\u001b[43m[\u001b[49m\u001b[43m[\u001b[49m\u001b[38;5;124;43m'\u001b[39;49m\u001b[38;5;124;43mdataset\u001b[39;49m\u001b[38;5;124;43m'\u001b[39;49m\u001b[43m,\u001b[49m\u001b[43m \u001b[49m\u001b[38;5;124;43m'\u001b[39;49m\u001b[38;5;124;43mmodel\u001b[39;49m\u001b[38;5;124;43m'\u001b[39;49m\u001b[43m,\u001b[49m\u001b[43m \u001b[49m\u001b[38;5;124;43m'\u001b[39;49m\u001b[38;5;124;43mavg_loss\u001b[39;49m\u001b[38;5;124;43m'\u001b[39;49m\u001b[43m,\u001b[49m\u001b[43m \u001b[49m\u001b[38;5;124;43m'\u001b[39;49m\u001b[38;5;124;43mavg_accuracy\u001b[39;49m\u001b[38;5;124;43m'\u001b[39;49m\u001b[43m,\u001b[49m\u001b[43m \u001b[49m\u001b[38;5;124;43m'\u001b[39;49m\u001b[38;5;124;43mtotal_time\u001b[39;49m\u001b[38;5;124;43m'\u001b[39;49m\u001b[43m]\u001b[49m\u001b[43m]\u001b[49m\n\u001b[0;32m      3\u001b[0m \u001b[38;5;66;03m# scale the avg_accuracy to 0-100\u001b[39;00m\n\u001b[0;32m      4\u001b[0m result_df[\u001b[38;5;124m'\u001b[39m\u001b[38;5;124mavg_accuracy\u001b[39m\u001b[38;5;124m'\u001b[39m] \u001b[38;5;241m=\u001b[39m \u001b[38;5;241m100\u001b[39m \u001b[38;5;241m*\u001b[39m (\u001b[38;5;241m1\u001b[39m \u001b[38;5;241m-\u001b[39m result_df[\u001b[38;5;124m'\u001b[39m\u001b[38;5;124mavg_accuracy\u001b[39m\u001b[38;5;124m'\u001b[39m])\n",
      "File \u001b[1;32mc:\\Users\\nnvuf\\AppData\\Local\\Programs\\Python\\Python310\\lib\\site-packages\\pandas\\core\\frame.py:4108\u001b[0m, in \u001b[0;36mDataFrame.__getitem__\u001b[1;34m(self, key)\u001b[0m\n\u001b[0;32m   4106\u001b[0m     \u001b[38;5;28;01mif\u001b[39;00m is_iterator(key):\n\u001b[0;32m   4107\u001b[0m         key \u001b[38;5;241m=\u001b[39m \u001b[38;5;28mlist\u001b[39m(key)\n\u001b[1;32m-> 4108\u001b[0m     indexer \u001b[38;5;241m=\u001b[39m \u001b[38;5;28;43mself\u001b[39;49m\u001b[38;5;241;43m.\u001b[39;49m\u001b[43mcolumns\u001b[49m\u001b[38;5;241;43m.\u001b[39;49m\u001b[43m_get_indexer_strict\u001b[49m\u001b[43m(\u001b[49m\u001b[43mkey\u001b[49m\u001b[43m,\u001b[49m\u001b[43m \u001b[49m\u001b[38;5;124;43m\"\u001b[39;49m\u001b[38;5;124;43mcolumns\u001b[39;49m\u001b[38;5;124;43m\"\u001b[39;49m\u001b[43m)\u001b[49m[\u001b[38;5;241m1\u001b[39m]\n\u001b[0;32m   4110\u001b[0m \u001b[38;5;66;03m# take() does not accept boolean indexers\u001b[39;00m\n\u001b[0;32m   4111\u001b[0m \u001b[38;5;28;01mif\u001b[39;00m \u001b[38;5;28mgetattr\u001b[39m(indexer, \u001b[38;5;124m\"\u001b[39m\u001b[38;5;124mdtype\u001b[39m\u001b[38;5;124m\"\u001b[39m, \u001b[38;5;28;01mNone\u001b[39;00m) \u001b[38;5;241m==\u001b[39m \u001b[38;5;28mbool\u001b[39m:\n",
      "File \u001b[1;32mc:\\Users\\nnvuf\\AppData\\Local\\Programs\\Python\\Python310\\lib\\site-packages\\pandas\\core\\indexes\\base.py:6200\u001b[0m, in \u001b[0;36mIndex._get_indexer_strict\u001b[1;34m(self, key, axis_name)\u001b[0m\n\u001b[0;32m   6197\u001b[0m \u001b[38;5;28;01melse\u001b[39;00m:\n\u001b[0;32m   6198\u001b[0m     keyarr, indexer, new_indexer \u001b[38;5;241m=\u001b[39m \u001b[38;5;28mself\u001b[39m\u001b[38;5;241m.\u001b[39m_reindex_non_unique(keyarr)\n\u001b[1;32m-> 6200\u001b[0m \u001b[38;5;28;43mself\u001b[39;49m\u001b[38;5;241;43m.\u001b[39;49m\u001b[43m_raise_if_missing\u001b[49m\u001b[43m(\u001b[49m\u001b[43mkeyarr\u001b[49m\u001b[43m,\u001b[49m\u001b[43m \u001b[49m\u001b[43mindexer\u001b[49m\u001b[43m,\u001b[49m\u001b[43m \u001b[49m\u001b[43maxis_name\u001b[49m\u001b[43m)\u001b[49m\n\u001b[0;32m   6202\u001b[0m keyarr \u001b[38;5;241m=\u001b[39m \u001b[38;5;28mself\u001b[39m\u001b[38;5;241m.\u001b[39mtake(indexer)\n\u001b[0;32m   6203\u001b[0m \u001b[38;5;28;01mif\u001b[39;00m \u001b[38;5;28misinstance\u001b[39m(key, Index):\n\u001b[0;32m   6204\u001b[0m     \u001b[38;5;66;03m# GH 42790 - Preserve name from an Index\u001b[39;00m\n",
      "File \u001b[1;32mc:\\Users\\nnvuf\\AppData\\Local\\Programs\\Python\\Python310\\lib\\site-packages\\pandas\\core\\indexes\\base.py:6252\u001b[0m, in \u001b[0;36mIndex._raise_if_missing\u001b[1;34m(self, key, indexer, axis_name)\u001b[0m\n\u001b[0;32m   6249\u001b[0m     \u001b[38;5;28;01mraise\u001b[39;00m \u001b[38;5;167;01mKeyError\u001b[39;00m(\u001b[38;5;124mf\u001b[39m\u001b[38;5;124m\"\u001b[39m\u001b[38;5;124mNone of [\u001b[39m\u001b[38;5;132;01m{\u001b[39;00mkey\u001b[38;5;132;01m}\u001b[39;00m\u001b[38;5;124m] are in the [\u001b[39m\u001b[38;5;132;01m{\u001b[39;00maxis_name\u001b[38;5;132;01m}\u001b[39;00m\u001b[38;5;124m]\u001b[39m\u001b[38;5;124m\"\u001b[39m)\n\u001b[0;32m   6251\u001b[0m not_found \u001b[38;5;241m=\u001b[39m \u001b[38;5;28mlist\u001b[39m(ensure_index(key)[missing_mask\u001b[38;5;241m.\u001b[39mnonzero()[\u001b[38;5;241m0\u001b[39m]]\u001b[38;5;241m.\u001b[39munique())\n\u001b[1;32m-> 6252\u001b[0m \u001b[38;5;28;01mraise\u001b[39;00m \u001b[38;5;167;01mKeyError\u001b[39;00m(\u001b[38;5;124mf\u001b[39m\u001b[38;5;124m\"\u001b[39m\u001b[38;5;132;01m{\u001b[39;00mnot_found\u001b[38;5;132;01m}\u001b[39;00m\u001b[38;5;124m not in index\u001b[39m\u001b[38;5;124m\"\u001b[39m)\n",
      "\u001b[1;31mKeyError\u001b[0m: \"['total_time'] not in index\""
     ]
    }
   ],
   "source": [
    "# swap the first two columns\n",
    "result_df = result_df[['dataset', 'model', 'avg_loss', 'avg_accuracy', 'total_time']]\n",
    "# scale the avg_accuracy to 0-100\n",
    "result_df['avg_accuracy'] = 100 * (1 - result_df['avg_accuracy'])\n",
    "# display the total time in the format HH:MM:SS\n",
    "result_df['total_time'] = pd.to_timedelta(result_df['total_time'], unit='s')\n",
    "\n",
    "# save the result to csv\n",
    "result_df.to_csv(f'results_{time_str}.csv', index=False)\n",
    "# print the result\n",
    "print(result_df)"
   ]
  },
  {
   "cell_type": "code",
   "execution_count": null,
   "id": "e6d9c510",
   "metadata": {},
   "outputs": [
    {
     "name": "stdout",
     "output_type": "stream",
     "text": [
      "              dataset     model  avg_loss  avg_accuracy\n",
      "0           gi4e_full    ResNet  0.000008     99.999914\n",
      "1           gi4e_full  DenseNet  0.000028     99.990581\n",
      "2           gi4e_full       VGG  0.017698     99.825569\n",
      "3       gi4e_raw_eyes    ResNet  0.042010     99.709066\n",
      "4       gi4e_raw_eyes  DenseNet  0.005678     99.373679\n",
      "5       gi4e_raw_eyes       VGG  0.147762     86.098641\n",
      "6  gi4e_detected_eyes    ResNet  0.018778     99.837420\n",
      "7  gi4e_detected_eyes  DenseNet  0.013462     99.948888\n",
      "8  gi4e_detected_eyes       VGG  0.017937     79.856581\n"
     ]
    }
   ],
   "source": [
    "print(result_df)"
   ]
  },
  {
   "cell_type": "markdown",
   "id": "a18e46b4",
   "metadata": {},
   "source": [
    "# Embedded Classification"
   ]
  },
  {
   "cell_type": "markdown",
   "id": "542a6be8",
   "metadata": {},
   "source": [
    "- Define the model"
   ]
  },
  {
   "cell_type": "code",
   "execution_count": null,
   "id": "433d460f",
   "metadata": {},
   "outputs": [],
   "source": [
    "embedded_models = [\n",
    "    md.embedded_resnet50(),\n",
    "    md.embedded_densenet121(),\n",
    "    md.embedded_vgg16()\n",
    "]"
   ]
  },
  {
   "cell_type": "markdown",
   "id": "baa0cc06",
   "metadata": {},
   "source": [
    "- Train all defined model on each registered datasets"
   ]
  },
  {
   "cell_type": "code",
   "execution_count": null,
   "id": "c21efd36",
   "metadata": {},
   "outputs": [],
   "source": [
    "result_df = pd.DataFrame(columns=['model', 'avg_loss', 'avg_accuracy', 'total_time'])\n",
    "\n",
    "for model in embedded_models:\n",
    "    print(f'Running embedded model {model.__class__.__name__}')\n",
    "    # do the train\n",
    "    start_time = time.time()\n",
    "    scored, loss = doTheTrain(datasets['gi4e_full'], model)\n",
    "    end_time = time.time()\n",
    "    total_time = end_time - start_time\n",
    "    print(f'Finished embedded model {model.__class__.__name__}')\n",
    "    print('----------------------')\n",
    "\n",
    "    # save the result\n",
    "    result_df = pd.concat([result_df, pd.DataFrame({\n",
    "        'model': [model.__class__.__name__],\n",
    "        'avg_loss': [loss],\n",
    "        'avg_accuracy': [scored],\n",
    "        'total_time': [total_time]\n",
    "    })], ignore_index=True)\n",
    "    \n",
    "print('Finished all embedded models')"
   ]
  },
  {
   "cell_type": "markdown",
   "id": "8a1c5880",
   "metadata": {},
   "source": [
    "- Print the result"
   ]
  },
  {
   "cell_type": "code",
   "execution_count": null,
   "id": "16dbf0a6",
   "metadata": {},
   "outputs": [],
   "source": [
    "# swap the first two columns\n",
    "result_df = result_df[['dataset', 'model', 'avg_loss', 'avg_accuracy', 'total_time']]\n",
    "# scale the avg_accuracy to 0-100\n",
    "result_df['avg_accuracy'] = 100 * (1 - result_df['avg_accuracy'])\n",
    "# display the total time in the format HH:MM:SS\n",
    "result_df['total_time'] = pd.to_timedelta(result_df['total_time'], unit='s')\n",
    "\n",
    "# save the result to csv\n",
    "result_df.to_csv(f'results_{time_str}.csv', index=False)\n",
    "# print the result\n",
    "print(result_df)"
   ]
  }
 ],
 "metadata": {
  "kernelspec": {
   "display_name": "Python 3",
   "language": "python",
   "name": "python3"
  },
  "language_info": {
   "codemirror_mode": {
    "name": "ipython",
    "version": 3
   },
   "file_extension": ".py",
   "mimetype": "text/x-python",
   "name": "python",
   "nbconvert_exporter": "python",
   "pygments_lexer": "ipython3",
   "version": "3.10.11"
  }
 },
 "nbformat": 4,
 "nbformat_minor": 5
}
