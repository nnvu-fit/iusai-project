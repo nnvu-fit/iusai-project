{
 "cells": [
  {
   "cell_type": "markdown",
   "metadata": {},
   "source": [
    "# Import library"
   ]
  },
  {
   "cell_type": "code",
   "execution_count": 38,
   "metadata": {},
   "outputs": [],
   "source": [
    "import torch\n",
    "import os\n",
    "import glob\n",
    "import numpy as np\n",
    "import matplotlib.pyplot as plt\n",
    "import random\n",
    "import torchvision\n",
    "from typing import Any\n",
    "from torch.utils.data import Dataset, DataLoader, random_split\n",
    "from torch.utils.tensorboard import SummaryWriter\n",
    "from PIL import Image\n",
    "from sklearn.metrics import accuracy_score\n",
    "\n"
   ]
  },
  {
   "cell_type": "markdown",
   "metadata": {},
   "source": [
    "# Setup device and tensorboard"
   ]
  },
  {
   "cell_type": "code",
   "execution_count": 39,
   "metadata": {},
   "outputs": [
    {
     "data": {
      "text/plain": [
       "<torch._C.Generator at 0x1a3551b6050>"
      ]
     },
     "execution_count": 39,
     "metadata": {},
     "output_type": "execute_result"
    }
   ],
   "source": [
    "device = torch.device(\"cuda:0\" if torch.cuda.is_available() else \"cpu\") \n",
    "writer = SummaryWriter(\"logs_classification\")\n",
    "torch.manual_seed(42)"
   ]
  },
  {
   "cell_type": "markdown",
   "metadata": {},
   "source": [
    "# Customized Dataset"
   ]
  },
  {
   "cell_type": "code",
   "execution_count": 40,
   "metadata": {},
   "outputs": [],
   "source": [
    "class ImageDataset(Dataset):\n",
    "    def __init__(self, list_root_dir: list, transform=None) -> None:\n",
    "        super().__init__()\n",
    "        self.list_root_dir = list_root_dir\n",
    "        self.transform = transform\n",
    "        \n",
    "        self.image_paths =[]\n",
    "        for root_dir in list_root_dir:\n",
    "            self.image_paths.extend(glob.glob(os.path.join(root_dir,\"with\",\"*.jpg\")))\n",
    "            self.image_paths.extend(glob.glob(os.path.join(root_dir,\"without\",\"*.jpg\")))\n",
    "        random.shuffle(self.image_paths)\n",
    "    def __len__(self) -> int:\n",
    "        return len(self.image_paths)\n",
    "    def __getitem__(self, index) -> Any:\n",
    "        image_path = self.image_paths[index]\n",
    "        \n",
    "        label = 1 if image_path.split(os.sep)[-2] == \"with\" else 0\n",
    "        image = Image.open(image_path).convert(\"RGB\")\n",
    "        if self.transform:\n",
    "            image = self.transform(image)\n",
    "            \n",
    "        return [image, label]"
   ]
  },
  {
   "cell_type": "markdown",
   "metadata": {},
   "source": [
    "# Train one epoch"
   ]
  },
  {
   "cell_type": "code",
   "execution_count": 41,
   "metadata": {},
   "outputs": [],
   "source": [
    "def train_model(model, loss_function, optimizer, train_loader, epoch=1):\n",
    "    model.train()\n",
    "    running_loss = 0.0\n",
    "    total_samples = 0\n",
    "    y_true = []\n",
    "    y_pred = []\n",
    "    for data in train_loader:     \n",
    "        images, labels = data\n",
    "        images = images.to(device)\n",
    "        labels = labels.to(device)\n",
    "        # Clear gradient\n",
    "        optimizer.zero_grad()\n",
    "        # Calculate logits\n",
    "        outputs = model(images)\n",
    "        # Calculate loss\n",
    "        loss = loss_function(outputs, labels)\n",
    "        # Calculate gradient from loss\n",
    "        loss.backward()\n",
    "        # Update weight\n",
    "        optimizer.step()\n",
    "\n",
    "        # Calculate loss\n",
    "        running_loss += loss.item() * images.size(0)\n",
    "        # Calculate total sample in data_loader\n",
    "        total_samples += images.size(0)\n",
    "        # Calculte y_predict for evaluation\n",
    "        predicted = torch.argmax(outputs, dim=1)\n",
    "        y_true.extend(labels.cpu().numpy())\n",
    "        y_pred.extend(predicted.detach().cpu().numpy())\n",
    "    loss = running_loss/total_samples\n",
    "    accuracy = accuracy_score(y_true, y_pred)\n",
    "    writer.add_scalar(\"train/loss\", loss, epoch)\n",
    "    writer.add_scalar(\"train/accuracy\", accuracy, epoch)\n",
    "    return loss, accuracy"
   ]
  },
  {
   "cell_type": "markdown",
   "metadata": {},
   "source": [
    "# Eval model\n",
    "\n"
   ]
  },
  {
   "cell_type": "code",
   "execution_count": 42,
   "metadata": {},
   "outputs": [],
   "source": [
    "def eval_model(model, loss_function, test_dataloader, epoch):\n",
    "    model.eval()\n",
    "    total_samples = 0\n",
    "    total_loss = 0\n",
    "    y_true = []\n",
    "    y_pred = []\n",
    "    with torch.no_grad():\n",
    "        for images, labels in test_dataloader:\n",
    "            images = images.to(device)\n",
    "            labels = labels.to(device)\n",
    "\n",
    "            # Calculate logits\n",
    "            outputs = model(images)\n",
    "            \n",
    "            # Calculate loss of outputs and y_true\n",
    "            loss = loss_function(outputs, labels)\n",
    "            total_loss += loss.item() * images.size(0)\n",
    "            # Calculate total sample\n",
    "            total_samples += images.size(0)\n",
    "            \n",
    "            # Calculte y_predict for evaluation\n",
    "            predicted = torch.argmax(outputs, dim=1)\n",
    "            y_true.extend(labels.cpu().numpy())\n",
    "            y_pred.extend(predicted.detach().cpu().numpy())\n",
    "    loss = total_loss/total_samples\n",
    "    accuracy = accuracy_score(y_true, y_pred)\n",
    "    writer.add_scalar(\"test/loss\", loss, epoch)\n",
    "    writer.add_scalar(\"test/accuracy\", accuracy, epoch)\n",
    "    return loss, accuracy"
   ]
  },
  {
   "cell_type": "markdown",
   "metadata": {},
   "source": [
    "# Model"
   ]
  },
  {
   "cell_type": "code",
   "execution_count": 43,
   "metadata": {},
   "outputs": [
    {
     "name": "stdout",
     "output_type": "stream",
     "text": [
      "cuda:0\n"
     ]
    }
   ],
   "source": [
    "model = torchvision.models.resnet34(num_classes=2)\n",
    "model = model.to(device)\n",
    "print(device)"
   ]
  },
  {
   "cell_type": "markdown",
   "metadata": {},
   "source": [
    "# Optimizer\n"
   ]
  },
  {
   "cell_type": "code",
   "execution_count": 44,
   "metadata": {},
   "outputs": [],
   "source": [
    "optimizer = torch.optim.Adam(model.parameters(), lr=0.001)"
   ]
  },
  {
   "cell_type": "markdown",
   "metadata": {},
   "source": [
    "# Loss function"
   ]
  },
  {
   "cell_type": "code",
   "execution_count": 45,
   "metadata": {},
   "outputs": [],
   "source": [
    "loss_function = torch.nn.CrossEntropyLoss()"
   ]
  },
  {
   "cell_type": "markdown",
   "metadata": {},
   "source": [
    "# Train"
   ]
  },
  {
   "cell_type": "code",
   "execution_count": 46,
   "metadata": {},
   "outputs": [
    {
     "name": "stdout",
     "output_type": "stream",
     "text": [
      "epoch 0: train_loss 0.6742, train_acc 0.6654, test_loss 0.6192325431971304, test_acc 0.6273\n",
      "epoch 1: train_loss 0.5583, train_acc 0.7101, test_loss 0.516021721672496, test_acc 0.7354\n",
      "epoch 2: train_loss 0.5394, train_acc 0.7225, test_loss 0.5507777027798175, test_acc 0.7271\n",
      "epoch 3: train_loss 0.5198, train_acc 0.7301, test_loss 0.5813605861735225, test_acc 0.6872\n",
      "epoch 4: train_loss 0.5086, train_acc 0.7419, test_loss 0.4806480611521075, test_acc 0.7521\n",
      "epoch 5: train_loss 0.4929, train_acc 0.7464, test_loss 0.46713274667743043, test_acc 0.7554\n",
      "epoch 6: train_loss 0.4915, train_acc 0.7454, test_loss 0.5258640871071776, test_acc 0.7155\n",
      "epoch 7: train_loss 0.4827, train_acc 0.7606, test_loss 0.5410944953337684, test_acc 0.7238\n",
      "epoch 8: train_loss 0.4729, train_acc 0.7582, test_loss 0.4769845348031271, test_acc 0.7488\n",
      "epoch 9: train_loss 0.4647, train_acc 0.7654, test_loss 0.4816878328902551, test_acc 0.772\n",
      "epoch 10: train_loss 0.469, train_acc 0.7652, test_loss 0.44552787478870637, test_acc 0.7837\n",
      "epoch 11: train_loss 0.4521, train_acc 0.7772, test_loss 0.4665768588838879, test_acc 0.7571\n",
      "epoch 12: train_loss 0.4566, train_acc 0.7783, test_loss 0.5946179967553366, test_acc 0.6922\n",
      "epoch 13: train_loss 0.4476, train_acc 0.7815, test_loss 0.4443062785857926, test_acc 0.797\n",
      "epoch 14: train_loss 0.429, train_acc 0.7929, test_loss 0.4837760691238124, test_acc 0.7621\n",
      "epoch 15: train_loss 0.426, train_acc 0.797, test_loss 0.42872135844484544, test_acc 0.792\n",
      "epoch 16: train_loss 0.4451, train_acc 0.782, test_loss 0.5110903922809341, test_acc 0.7438\n",
      "epoch 17: train_loss 0.4287, train_acc 0.7979, test_loss 0.41453786162092365, test_acc 0.7937\n",
      "epoch 18: train_loss 0.4201, train_acc 0.7992, test_loss 0.42777403584137536, test_acc 0.817\n",
      "epoch 19: train_loss 0.4229, train_acc 0.7959, test_loss 0.4177134779348548, test_acc 0.807\n",
      "epoch 20: train_loss 0.4097, train_acc 0.8077, test_loss 0.410798459550902, test_acc 0.8103\n",
      "epoch 21: train_loss 0.4087, train_acc 0.8081, test_loss 0.42748810437673734, test_acc 0.792\n",
      "epoch 22: train_loss 0.3958, train_acc 0.8106, test_loss 0.3830923679565233, test_acc 0.8186\n",
      "epoch 23: train_loss 0.3962, train_acc 0.8166, test_loss 0.448126553001499, test_acc 0.7837\n",
      "epoch 24: train_loss 0.3914, train_acc 0.8093, test_loss 0.45323912791920185, test_acc 0.797\n",
      "epoch 25: train_loss 0.3962, train_acc 0.8132, test_loss 0.7288074666965821, test_acc 0.6456\n",
      "epoch 26: train_loss 0.3892, train_acc 0.814, test_loss 0.48829986445122275, test_acc 0.7937\n",
      "epoch 27: train_loss 0.3922, train_acc 0.8147, test_loss 0.3931047643183075, test_acc 0.8203\n",
      "epoch 28: train_loss 0.4057, train_acc 0.8151, test_loss 0.406077942961266, test_acc 0.792\n",
      "epoch 29: train_loss 0.3902, train_acc 0.8117, test_loss 0.36856043115630127, test_acc 0.8336\n",
      "epoch 30: train_loss 0.383, train_acc 0.8166, test_loss 0.42021994057193574, test_acc 0.8053\n",
      "epoch 31: train_loss 0.3818, train_acc 0.8241, test_loss 0.3706123662272626, test_acc 0.8203\n",
      "epoch 32: train_loss 0.3595, train_acc 0.8352, test_loss 0.38270263787910663, test_acc 0.822\n",
      "epoch 33: train_loss 0.3778, train_acc 0.8202, test_loss 0.3723272433792692, test_acc 0.8319\n",
      "epoch 34: train_loss 0.3676, train_acc 0.8241, test_loss 0.41475881514652396, test_acc 0.792\n",
      "epoch 35: train_loss 0.3732, train_acc 0.8276, test_loss 0.3679948631122386, test_acc 0.8303\n",
      "epoch 36: train_loss 0.3585, train_acc 0.8374, test_loss 0.3733205718922734, test_acc 0.8253\n",
      "epoch 37: train_loss 0.3687, train_acc 0.8286, test_loss 0.40417184374495074, test_acc 0.8003\n",
      "epoch 38: train_loss 0.3693, train_acc 0.8289, test_loss 0.3797307249511935, test_acc 0.8303\n",
      "epoch 39: train_loss 0.3552, train_acc 0.8311, test_loss 0.3642328089465714, test_acc 0.8336\n",
      "epoch 40: train_loss 0.3503, train_acc 0.835, test_loss 0.42391369559998915, test_acc 0.8037\n",
      "epoch 41: train_loss 0.3529, train_acc 0.8374, test_loss 0.4235956265208328, test_acc 0.7953\n",
      "epoch 42: train_loss 0.3518, train_acc 0.835, test_loss 0.3687315047679844, test_acc 0.8403\n",
      "epoch 43: train_loss 0.3555, train_acc 0.8382, test_loss 0.5081207516189423, test_acc 0.7587\n",
      "epoch 44: train_loss 0.3543, train_acc 0.833, test_loss 0.343828269576471, test_acc 0.8436\n",
      "epoch 45: train_loss 0.3559, train_acc 0.8313, test_loss 0.32564977520515836, test_acc 0.8552\n",
      "epoch 46: train_loss 0.3493, train_acc 0.8372, test_loss 0.34167572503875376, test_acc 0.8386\n",
      "epoch 47: train_loss 0.3381, train_acc 0.8422, test_loss 0.380405375445742, test_acc 0.8303\n",
      "epoch 48: train_loss 0.3385, train_acc 0.8472, test_loss 0.3368822256856274, test_acc 0.8419\n",
      "epoch 49: train_loss 0.3364, train_acc 0.8443, test_loss 0.32812716565195615, test_acc 0.8469\n"
     ]
    }
   ],
   "source": [
    "list_root_dir = []\n",
    "list_root_dir.append(os.path.join(os.getcwd(), \"dataset\", \"gan_makeup_data_96\"))\n",
    "list_root_dir.append(os.path.join(os.getcwd(), \"dataset\", \"mtdataset_96\"))\n",
    "transform = torchvision.transforms.Compose([\n",
    "    torchvision.transforms.RandomResizedCrop([96,96]),\n",
    "    torchvision.transforms.RandomHorizontalFlip(),\n",
    "    torchvision.transforms.RandomVerticalFlip(),\n",
    "        torchvision.transforms.ToTensor(),\n",
    "    torchvision.transforms.Normalize([0.5,0.5,0.5],[0.5,0.5,0.5])\n",
    "])\n",
    "epoch = 20\n",
    "dataset = ImageDataset(list_root_dir, transform)\n",
    "\n",
    "# Perform train-test split\n",
    "train_dataset, test_dataset = random_split(dataset, [0.9,0.1])\n",
    "train_loader = DataLoader(train_dataset, batch_size=64, shuffle=True)\n",
    "test_loader = DataLoader(test_dataset, batch_size=64, shuffle=True)\n",
    "\n",
    "for i in range(50):\n",
    "    train_loss, train_acc = train_model(model, loss_function, optimizer, train_loader, i)\n",
    "    test_loss, test_acc = eval_model(model, loss_function, test_loader, i)\n",
    "    print(f'''epoch {i}: train_loss {round(train_loss,4)}, train_acc {round(train_acc,4)}, test_loss {test_loss}, test_acc {round(test_acc,4)}''')\n",
    "writer.flush()\n",
    "writer.close()"
   ]
  },
  {
   "cell_type": "markdown",
   "metadata": {},
   "source": [
    "# Save model"
   ]
  },
  {
   "cell_type": "code",
   "execution_count": null,
   "metadata": {},
   "outputs": [],
   "source": [
    "file_path = \"classification.pth\"\n",
    "torch.save(model.state_dict(), file_path)"
   ]
  },
  {
   "cell_type": "code",
   "execution_count": 47,
   "metadata": {},
   "outputs": [],
   "source": [
    "# print(len(dataset))\n",
    "\n",
    "# fig, axes = plt.subplots(10, 10, figsize=(10,10))\n",
    "# for i in range(10):\n",
    "#     for j in range(10):\n",
    "#         image = torchvision.transforms.ToPILImage()(dataset[i*10+j][0])\n",
    "#         label = dataset[i*10+j][1]\n",
    "#         axes[i][j].imshow(image)\n",
    "#         axes[i][j].axis(\"off\")\n",
    "#         axes[i][j].set_title(label)\n",
    "# plt.show()\n",
    "\n"
   ]
  },
  {
   "cell_type": "code",
   "execution_count": 48,
   "metadata": {},
   "outputs": [],
   "source": [
    "# import numpy as np\n",
    "\n",
    "# def cross_entropy_loss(logits, targets):\n",
    "#     num_samples = targets.shape[0]\n",
    "\n",
    "#     softmax_probs = np.exp(logits) / np.sum(np.exp(logits), axis=1, keepdims=True)\n",
    "#     a = np.arange(num_samples)\n",
    "#     b = softmax_probs[np.arange(num_samples), targets]\n",
    "#     log_probs = -np.log(softmax_probs[np.arange(num_samples), targets])\n",
    "\n",
    "#     loss = np.sum(log_probs) / num_samples\n",
    "#     return loss\n",
    "# logits = np.array([[2,4],\n",
    "#                   [5,2]], dtype=np.float32)\n",
    "# target = np.array([0,1])\n",
    "\n",
    "# loss = cross_entropy_loss(logits, target)\n",
    "# print(loss)\n",
    "\n",
    "# logits = torch.tensor([[2,4],\n",
    "#                   [5,2]], dtype=torch.float32)\n",
    "# target = torch.tensor([0,1])\n",
    "\n",
    "# softmax = torch.nn.Softmax(dim=1)\n",
    "# softmax_logits = softmax(logits)\n",
    "# print(softmax_logits)\n",
    "# loss_function = torch.nn.CrossEntropyLoss()\n",
    "# loss = loss_function(logits, target)\n",
    "# print(loss)"
   ]
  }
 ],
 "metadata": {
  "kernelspec": {
   "display_name": "python_pytorch",
   "language": "python",
   "name": "python3"
  },
  "language_info": {
   "codemirror_mode": {
    "name": "ipython",
    "version": 3
   },
   "file_extension": ".py",
   "mimetype": "text/x-python",
   "name": "python",
   "nbconvert_exporter": "python",
   "pygments_lexer": "ipython3",
   "version": "3.11.3"
  },
  "orig_nbformat": 4
 },
 "nbformat": 4,
 "nbformat_minor": 2
}
