{
 "cells": [
  {
   "cell_type": "markdown",
   "id": "7c98c9f8",
   "metadata": {},
   "source": []
  },
  {
   "cell_type": "markdown",
   "id": "8f0af9de",
   "metadata": {},
   "source": [
    "# Inport needed package"
   ]
  },
  {
   "cell_type": "markdown",
   "id": "19e2073d",
   "metadata": {},
   "source": [
    "- import os, sys # to add the parent directory to the path"
   ]
  },
  {
   "cell_type": "code",
   "execution_count": 1,
   "id": "eb6f3365",
   "metadata": {
    "notebookRunGroups": {
     "groupValue": "1"
    }
   },
   "outputs": [],
   "source": [
    "import os\n",
    "import sys\n",
    "import time"
   ]
  },
  {
   "cell_type": "markdown",
   "id": "92a0bf9d",
   "metadata": {},
   "source": [
    "- Using torchvision to create a dataset"
   ]
  },
  {
   "cell_type": "code",
   "execution_count": 2,
   "id": "84577080",
   "metadata": {
    "notebookRunGroups": {
     "groupValue": "1"
    }
   },
   "outputs": [],
   "source": [
    "# Using torchvision to create a dataset\n",
    "import cv2\n",
    "from torchvision import transforms\n",
    "import torch\n",
    "from torch.utils.data import random_split, DataLoader\n",
    "import torchvision\n",
    "\n",
    "import pandas as pd"
   ]
  },
  {
   "cell_type": "markdown",
   "id": "353412ad",
   "metadata": {},
   "source": [
    "- import self library"
   ]
  },
  {
   "cell_type": "code",
   "execution_count": 3,
   "id": "eec759ec",
   "metadata": {
    "notebookRunGroups": {
     "groupValue": "1"
    }
   },
   "outputs": [
    {
     "name": "stderr",
     "output_type": "stream",
     "text": [
      "c:\\Users\\nnvuf\\AppData\\Local\\Programs\\Python\\Python310\\lib\\site-packages\\tqdm\\auto.py:21: TqdmWarning: IProgress not found. Please update jupyter and ipywidgets. See https://ipywidgets.readthedocs.io/en/stable/user_install.html\n",
      "  from .autonotebook import tqdm as notebook_tqdm\n"
     ]
    }
   ],
   "source": [
    "from train.trainer import ClassifierTrainer as Trainer\n",
    "import dataset as ds  # type: ignore\n",
    "import model as md  # type: ignore"
   ]
  },
  {
   "cell_type": "markdown",
   "id": "ec973ee2",
   "metadata": {},
   "source": [
    "# Define classification train process"
   ]
  },
  {
   "cell_type": "markdown",
   "id": "a872305b",
   "metadata": {},
   "source": [
    "1. Define place where the model is saved"
   ]
  },
  {
   "cell_type": "code",
   "execution_count": 4,
   "id": "c65f0f4a",
   "metadata": {},
   "outputs": [],
   "source": [
    "time_str = time.strftime(\"%Y%m%d_%H%M%S\")"
   ]
  },
  {
   "cell_type": "markdown",
   "id": "f5d88245",
   "metadata": {},
   "source": [
    "2. Define train function"
   ]
  },
  {
   "cell_type": "code",
   "execution_count": 5,
   "id": "554ddc4d",
   "metadata": {},
   "outputs": [],
   "source": [
    "def train_process(dataset, model):\n",
    "  # define batch_size\n",
    "  batch_size = 64\n",
    "\n",
    "  # init train val test ds\n",
    "  train_val_size = int(0.8 * len(dataset))\n",
    "  test_size = len(dataset) - train_val_size\n",
    "  train_ds, test_ds = random_split(dataset, [train_val_size, test_size])\n",
    "\n",
    "  # define optimizer using Adam and loss function\n",
    "  optimizer = torch.optim.Adam(model.parameters(), lr=0.001)\n",
    "  loss_fn = torch.nn.CrossEntropyLoss()\n",
    "\n",
    "  trainer = Trainer(model, optimizer, loss_fn, random_seed_value=86)\n",
    "  print('device: ', trainer.device)\n",
    "  avg_loss, metric = trainer.cross_validate(train_ds, k=5, epochs=10, batch_size=batch_size)\n",
    "  print('avg_loss: ', avg_loss)\n",
    "\n",
    "  # score model\n",
    "  test_dataloader = DataLoader(test_ds, batch_size=batch_size, shuffle=True)\n",
    "  model_scored = trainer.score(test_dataloader)\n",
    "  print(f'model_scored: {model_scored:.4f}, avg_accuracy: {100*(1 - model_scored):.4f}')\n",
    "\n",
    "  # return model scored, train_avg_lost\n",
    "  return model_scored, avg_loss"
   ]
  },
  {
   "cell_type": "markdown",
   "id": "b2e26c06",
   "metadata": {},
   "source": [
    "3. execute progress"
   ]
  },
  {
   "cell_type": "markdown",
   "id": "20bbab88",
   "metadata": {},
   "source": [
    "- define the model"
   ]
  },
  {
   "cell_type": "code",
   "execution_count": 6,
   "id": "e2317e01",
   "metadata": {},
   "outputs": [],
   "source": [
    "models = [\n",
    "\ttorchvision.models.resnet50(weights=torchvision.models.ResNet50_Weights.DEFAULT),\n",
    "  torchvision.models.densenet121(weights=torchvision.models.DenseNet121_Weights.DEFAULT),\n",
    "  torchvision.models.vgg16(weights=torchvision.models.VGG16_Weights.DEFAULT)\n",
    "]"
   ]
  },
  {
   "cell_type": "markdown",
   "id": "af5733d5",
   "metadata": {},
   "source": [
    "- Define tested datasets"
   ]
  },
  {
   "cell_type": "code",
   "execution_count": 7,
   "id": "f6a4d5fd",
   "metadata": {},
   "outputs": [],
   "source": [
    "datasets = {\n",
    "    'gi4e_full': ds.Gi4eDataset(\n",
    "        './datasets/gi4e',\n",
    "        transform=transforms.Compose([transforms.ToPILImage(), transforms.Resize((224, 224)), transforms.ToTensor()]),\n",
    "        is_classification=True),\n",
    "    'gi4e_raw_eyes': ds.ImageDataset(\n",
    "        './datasets/gi4e_raw_eyes',\n",
    "        transform=transforms.Compose([transforms.Resize((224, 224)), transforms.ToTensor()]),\n",
    "        file_extension='png'),\n",
    "    'gi4e_detected_eyes': ds.ImageDataset(\n",
    "        './datasets/gi4e_eyes/20250521_200316',\n",
    "        transform=transforms.Compose([transforms.Resize((224, 224)), transforms.ToTensor()]),\n",
    "        file_extension='png'),\n",
    "}"
   ]
  },
  {
   "cell_type": "markdown",
   "id": "28afcf22",
   "metadata": {},
   "source": [
    "- Train all defined model on each registered datasets"
   ]
  },
  {
   "cell_type": "code",
   "execution_count": 8,
   "id": "1784fdb6",
   "metadata": {},
   "outputs": [
    {
     "name": "stdout",
     "output_type": "stream",
     "text": [
      "Running gi4e_full dataset with ResNet\n",
      "device:  cuda\n",
      "Fold 1/5:\n",
      "Epoch 1/10, Train Loss: 2.2467, Test Loss: 0.7414, Total Time: 00 hours, 00 minutes, 40 seconds\n",
      "Epoch 2/10, Train Loss: 0.0129, Test Loss: 0.0296, Total Time: 00 hours, 00 minutes, 17 seconds\n",
      "Epoch 3/10, Train Loss: 0.0015, Test Loss: 0.0058, Total Time: 00 hours, 00 minutes, 17 seconds\n",
      "Epoch 4/10, Train Loss: 0.0004, Test Loss: 0.0041, Total Time: 00 hours, 00 minutes, 17 seconds\n",
      "Epoch 5/10, Train Loss: 0.0002, Test Loss: 0.0030, Total Time: 00 hours, 00 minutes, 17 seconds\n",
      "Epoch 6/10, Train Loss: 0.0001, Test Loss: 0.0025, Total Time: 00 hours, 00 minutes, 17 seconds\n",
      "Epoch 7/10, Train Loss: 0.0001, Test Loss: 0.0022, Total Time: 00 hours, 00 minutes, 17 seconds\n",
      "Epoch 8/10, Train Loss: 0.0001, Test Loss: 0.0021, Total Time: 00 hours, 00 minutes, 16 seconds\n",
      "Epoch 9/10, Train Loss: 0.0001, Test Loss: 0.0020, Total Time: 00 hours, 00 minutes, 17 seconds\n",
      "Epoch 10/10, Train Loss: 0.0001, Test Loss: 0.0011, Total Time: 00 hours, 00 minutes, 17 seconds\n",
      "Fold 1/5, Total Test Loss: 0.0011, Fold accuracy: 99.8937\n",
      "Fold 2/5:\n",
      "Epoch 1/10, Train Loss: 0.0024, Test Loss: 0.0003, Total Time: 00 hours, 00 minutes, 17 seconds\n",
      "Epoch 2/10, Train Loss: 0.0004, Test Loss: 0.0004, Total Time: 00 hours, 00 minutes, 17 seconds\n",
      "Epoch 3/10, Train Loss: 0.0004, Test Loss: 0.0001, Total Time: 00 hours, 00 minutes, 17 seconds\n",
      "Epoch 4/10, Train Loss: 0.0001, Test Loss: 0.0000, Total Time: 00 hours, 00 minutes, 17 seconds\n",
      "Epoch 5/10, Train Loss: 0.0001, Test Loss: 0.0000, Total Time: 00 hours, 00 minutes, 17 seconds\n",
      "Epoch 6/10, Train Loss: 0.0001, Test Loss: 0.0000, Total Time: 00 hours, 00 minutes, 17 seconds\n",
      "Epoch 7/10, Train Loss: 0.0001, Test Loss: 0.0000, Total Time: 00 hours, 00 minutes, 17 seconds\n",
      "Epoch 8/10, Train Loss: 0.0000, Test Loss: 0.0000, Total Time: 00 hours, 00 minutes, 17 seconds\n",
      "Epoch 9/10, Train Loss: 0.0000, Test Loss: 0.0000, Total Time: 00 hours, 00 minutes, 17 seconds\n",
      "Epoch 10/10, Train Loss: 0.0000, Test Loss: 0.0000, Total Time: 00 hours, 00 minutes, 17 seconds\n",
      "Fold 2/5, Total Test Loss: 0.0011, Fold accuracy: 99.9994\n",
      "Fold 3/5:\n",
      "Epoch 1/10, Train Loss: 0.0000, Test Loss: 0.0000, Total Time: 00 hours, 00 minutes, 17 seconds\n",
      "Epoch 2/10, Train Loss: 0.0000, Test Loss: 0.0000, Total Time: 00 hours, 00 minutes, 17 seconds\n",
      "Epoch 3/10, Train Loss: 0.0000, Test Loss: 0.0000, Total Time: 00 hours, 00 minutes, 17 seconds\n",
      "Epoch 4/10, Train Loss: 0.0000, Test Loss: 0.0000, Total Time: 00 hours, 00 minutes, 17 seconds\n",
      "Epoch 5/10, Train Loss: 0.0000, Test Loss: 0.0000, Total Time: 00 hours, 00 minutes, 17 seconds\n",
      "Epoch 6/10, Train Loss: 0.0000, Test Loss: 0.0000, Total Time: 00 hours, 00 minutes, 17 seconds\n",
      "Epoch 7/10, Train Loss: 0.0000, Test Loss: 0.0000, Total Time: 00 hours, 00 minutes, 17 seconds\n",
      "Epoch 8/10, Train Loss: 0.0000, Test Loss: 0.0000, Total Time: 00 hours, 00 minutes, 17 seconds\n",
      "Epoch 9/10, Train Loss: 0.0000, Test Loss: 0.0000, Total Time: 00 hours, 00 minutes, 17 seconds\n",
      "Epoch 10/10, Train Loss: 0.0000, Test Loss: 0.0000, Total Time: 00 hours, 00 minutes, 17 seconds\n",
      "Fold 3/5, Total Test Loss: 0.0011, Fold accuracy: 99.9997\n",
      "Fold 4/5:\n",
      "Epoch 1/10, Train Loss: 0.0000, Test Loss: 0.0000, Total Time: 00 hours, 00 minutes, 17 seconds\n",
      "Epoch 2/10, Train Loss: 0.0000, Test Loss: 0.0000, Total Time: 00 hours, 00 minutes, 17 seconds\n",
      "Epoch 3/10, Train Loss: 0.0000, Test Loss: 0.0000, Total Time: 00 hours, 00 minutes, 17 seconds\n",
      "Epoch 4/10, Train Loss: 0.0000, Test Loss: 0.0000, Total Time: 00 hours, 00 minutes, 18 seconds\n",
      "Epoch 5/10, Train Loss: 0.0000, Test Loss: 0.0000, Total Time: 00 hours, 00 minutes, 18 seconds\n",
      "Epoch 6/10, Train Loss: 0.0000, Test Loss: 0.0000, Total Time: 00 hours, 00 minutes, 19 seconds\n",
      "Epoch 7/10, Train Loss: 0.0000, Test Loss: 0.0000, Total Time: 00 hours, 00 minutes, 18 seconds\n",
      "Epoch 8/10, Train Loss: 0.0000, Test Loss: 0.0000, Total Time: 00 hours, 00 minutes, 18 seconds\n",
      "Epoch 9/10, Train Loss: 0.0000, Test Loss: 0.0000, Total Time: 00 hours, 00 minutes, 19 seconds\n",
      "Epoch 10/10, Train Loss: 0.0000, Test Loss: 0.0000, Total Time: 00 hours, 00 minutes, 20 seconds\n",
      "Fold 4/5, Total Test Loss: 0.0011, Fold accuracy: 99.9999\n",
      "Fold 5/5:\n",
      "Epoch 1/10, Train Loss: 0.0000, Test Loss: 0.0000, Total Time: 00 hours, 00 minutes, 19 seconds\n",
      "Epoch 2/10, Train Loss: 0.0000, Test Loss: 0.0000, Total Time: 00 hours, 00 minutes, 19 seconds\n",
      "Epoch 3/10, Train Loss: 0.0000, Test Loss: 0.0000, Total Time: 00 hours, 00 minutes, 18 seconds\n",
      "Epoch 4/10, Train Loss: 0.0000, Test Loss: 0.0000, Total Time: 00 hours, 00 minutes, 18 seconds\n",
      "Epoch 5/10, Train Loss: 0.0000, Test Loss: 0.0000, Total Time: 00 hours, 00 minutes, 18 seconds\n",
      "Epoch 6/10, Train Loss: 0.0000, Test Loss: 0.0000, Total Time: 00 hours, 00 minutes, 18 seconds\n",
      "Epoch 7/10, Train Loss: 0.0000, Test Loss: 0.0000, Total Time: 00 hours, 00 minutes, 18 seconds\n",
      "Epoch 8/10, Train Loss: 0.0000, Test Loss: 0.0000, Total Time: 00 hours, 00 minutes, 18 seconds\n",
      "Epoch 9/10, Train Loss: 0.0000, Test Loss: 0.0000, Total Time: 00 hours, 00 minutes, 18 seconds\n",
      "Epoch 10/10, Train Loss: 0.0000, Test Loss: 0.0000, Total Time: 00 hours, 00 minutes, 18 seconds\n",
      "Fold 5/5, Total Test Loss: 0.0011, Fold accuracy: 99.9999\n",
      "avg_loss:  0.00021486375380604922\n",
      "model_scored: 0.0000, avg_accuracy: 99.9998\n",
      "Finished gi4e_full dataset with ResNet\n",
      "----------------------\n",
      "Running gi4e_full dataset with DenseNet\n",
      "device:  cuda\n",
      "Fold 1/5:\n"
     ]
    },
    {
     "name": "stderr",
     "output_type": "stream",
     "text": [
      "C:\\Users\\nnvuf\\AppData\\Local\\Temp\\ipykernel_15040\\454607160.py:15: FutureWarning: The behavior of DataFrame concatenation with empty or all-NA entries is deprecated. In a future version, this will no longer exclude empty or all-NA columns when determining the result dtypes. To retain the old behavior, exclude the relevant entries before the concat operation.\n",
      "  result_df = pd.concat([result_df, pd.DataFrame({\n"
     ]
    },
    {
     "name": "stdout",
     "output_type": "stream",
     "text": [
      "Epoch 1/10, Train Loss: 1.9108, Test Loss: 1.5063, Total Time: 00 hours, 00 minutes, 27 seconds\n",
      "Epoch 2/10, Train Loss: 0.0348, Test Loss: 0.0855, Total Time: 00 hours, 00 minutes, 20 seconds\n",
      "Epoch 3/10, Train Loss: 0.0049, Test Loss: 0.0098, Total Time: 00 hours, 00 minutes, 20 seconds\n",
      "Epoch 4/10, Train Loss: 0.0017, Test Loss: 0.0021, Total Time: 00 hours, 00 minutes, 20 seconds\n",
      "Epoch 5/10, Train Loss: 0.0009, Test Loss: 0.0013, Total Time: 00 hours, 00 minutes, 19 seconds\n",
      "Epoch 6/10, Train Loss: 0.0006, Test Loss: 0.0011, Total Time: 00 hours, 00 minutes, 20 seconds\n",
      "Epoch 7/10, Train Loss: 0.0004, Test Loss: 0.0010, Total Time: 00 hours, 00 minutes, 20 seconds\n",
      "Epoch 8/10, Train Loss: 0.0003, Test Loss: 0.0010, Total Time: 00 hours, 00 minutes, 20 seconds\n",
      "Epoch 9/10, Train Loss: 0.0003, Test Loss: 0.0009, Total Time: 00 hours, 00 minutes, 20 seconds\n",
      "Epoch 10/10, Train Loss: 0.0002, Test Loss: 0.0009, Total Time: 00 hours, 00 minutes, 20 seconds\n",
      "Fold 1/5, Total Test Loss: 0.0009, Fold accuracy: 99.9117\n",
      "Fold 2/5:\n",
      "Epoch 1/10, Train Loss: 0.0005, Test Loss: 0.0001, Total Time: 00 hours, 00 minutes, 19 seconds\n",
      "Epoch 2/10, Train Loss: 0.0002, Test Loss: 0.0001, Total Time: 00 hours, 00 minutes, 20 seconds\n",
      "Epoch 3/10, Train Loss: 0.0002, Test Loss: 0.0001, Total Time: 00 hours, 00 minutes, 19 seconds\n",
      "Epoch 4/10, Train Loss: 0.0002, Test Loss: 0.0001, Total Time: 00 hours, 00 minutes, 19 seconds\n",
      "Epoch 5/10, Train Loss: 0.0002, Test Loss: 0.0001, Total Time: 00 hours, 00 minutes, 19 seconds\n",
      "Epoch 6/10, Train Loss: 0.0001, Test Loss: 0.0001, Total Time: 00 hours, 00 minutes, 20 seconds\n",
      "Epoch 7/10, Train Loss: 0.0001, Test Loss: 0.0001, Total Time: 00 hours, 00 minutes, 19 seconds\n",
      "Epoch 8/10, Train Loss: 0.0001, Test Loss: 0.0001, Total Time: 00 hours, 00 minutes, 19 seconds\n",
      "Epoch 9/10, Train Loss: 0.0001, Test Loss: 0.0001, Total Time: 00 hours, 00 minutes, 20 seconds\n",
      "Epoch 10/10, Train Loss: 0.0001, Test Loss: 0.0001, Total Time: 00 hours, 00 minutes, 19 seconds\n",
      "Fold 2/5, Total Test Loss: 0.0009, Fold accuracy: 99.9949\n",
      "Fold 3/5:\n",
      "Epoch 1/10, Train Loss: 0.0001, Test Loss: 0.0000, Total Time: 00 hours, 00 minutes, 19 seconds\n",
      "Epoch 2/10, Train Loss: 0.0001, Test Loss: 0.0000, Total Time: 00 hours, 00 minutes, 19 seconds\n",
      "Epoch 3/10, Train Loss: 0.0001, Test Loss: 0.0000, Total Time: 00 hours, 00 minutes, 20 seconds\n",
      "Epoch 4/10, Train Loss: 0.0001, Test Loss: 0.0000, Total Time: 00 hours, 00 minutes, 19 seconds\n",
      "Epoch 5/10, Train Loss: 0.0001, Test Loss: 0.0000, Total Time: 00 hours, 00 minutes, 19 seconds\n",
      "Epoch 6/10, Train Loss: 0.0001, Test Loss: 0.0000, Total Time: 00 hours, 00 minutes, 19 seconds\n",
      "Epoch 7/10, Train Loss: 0.0001, Test Loss: 0.0000, Total Time: 00 hours, 00 minutes, 19 seconds\n",
      "Epoch 8/10, Train Loss: 0.0001, Test Loss: 0.0000, Total Time: 00 hours, 00 minutes, 19 seconds\n",
      "Epoch 9/10, Train Loss: 0.0001, Test Loss: 0.0000, Total Time: 00 hours, 00 minutes, 20 seconds\n",
      "Epoch 10/10, Train Loss: 0.0001, Test Loss: 0.0000, Total Time: 00 hours, 00 minutes, 20 seconds\n",
      "Fold 3/5, Total Test Loss: 0.0010, Fold accuracy: 99.9971\n",
      "Fold 4/5:\n",
      "Epoch 1/10, Train Loss: 0.0001, Test Loss: 0.0000, Total Time: 00 hours, 00 minutes, 20 seconds\n",
      "Epoch 2/10, Train Loss: 0.0001, Test Loss: 0.0000, Total Time: 00 hours, 00 minutes, 20 seconds\n",
      "Epoch 3/10, Train Loss: 0.0001, Test Loss: 0.0000, Total Time: 00 hours, 00 minutes, 19 seconds\n",
      "Epoch 4/10, Train Loss: 0.0001, Test Loss: 0.0000, Total Time: 00 hours, 00 minutes, 19 seconds\n",
      "Epoch 5/10, Train Loss: 0.0000, Test Loss: 0.0000, Total Time: 00 hours, 00 minutes, 19 seconds\n",
      "Epoch 6/10, Train Loss: 0.0001, Test Loss: 0.0000, Total Time: 00 hours, 00 minutes, 19 seconds\n",
      "Epoch 7/10, Train Loss: 0.0000, Test Loss: 0.0000, Total Time: 00 hours, 00 minutes, 20 seconds\n",
      "Epoch 8/10, Train Loss: 0.0000, Test Loss: 0.0000, Total Time: 00 hours, 00 minutes, 19 seconds\n",
      "Epoch 9/10, Train Loss: 0.0000, Test Loss: 0.0000, Total Time: 00 hours, 00 minutes, 20 seconds\n",
      "Epoch 10/10, Train Loss: 0.0000, Test Loss: 0.0000, Total Time: 00 hours, 00 minutes, 20 seconds\n",
      "Fold 4/5, Total Test Loss: 0.0010, Fold accuracy: 99.9983\n",
      "Fold 5/5:\n",
      "Epoch 1/10, Train Loss: 0.0000, Test Loss: 0.0000, Total Time: 00 hours, 00 minutes, 19 seconds\n",
      "Epoch 2/10, Train Loss: 0.0000, Test Loss: 0.0000, Total Time: 00 hours, 00 minutes, 18 seconds\n",
      "Epoch 3/10, Train Loss: 0.0000, Test Loss: 0.0000, Total Time: 00 hours, 00 minutes, 19 seconds\n",
      "Epoch 4/10, Train Loss: 0.0000, Test Loss: 0.0000, Total Time: 00 hours, 00 minutes, 19 seconds\n",
      "Epoch 5/10, Train Loss: 0.0000, Test Loss: 0.0000, Total Time: 00 hours, 00 minutes, 20 seconds\n",
      "Epoch 6/10, Train Loss: 0.0000, Test Loss: 0.0000, Total Time: 00 hours, 00 minutes, 19 seconds\n",
      "Epoch 7/10, Train Loss: 0.0000, Test Loss: 0.0000, Total Time: 00 hours, 00 minutes, 20 seconds\n",
      "Epoch 8/10, Train Loss: 0.0000, Test Loss: 0.0000, Total Time: 00 hours, 00 minutes, 19 seconds\n",
      "Epoch 9/10, Train Loss: 0.0000, Test Loss: 0.0000, Total Time: 00 hours, 00 minutes, 20 seconds\n",
      "Epoch 10/10, Train Loss: 0.0000, Test Loss: 0.0000, Total Time: 00 hours, 00 minutes, 19 seconds\n",
      "Fold 5/5, Total Test Loss: 0.0010, Fold accuracy: 99.9987\n",
      "avg_loss:  0.00019849597026735366\n",
      "model_scored: 0.0000, avg_accuracy: 99.9970\n",
      "Finished gi4e_full dataset with DenseNet\n",
      "----------------------\n",
      "Running gi4e_full dataset with VGG\n",
      "device:  cuda\n",
      "Fold 1/5:\n",
      "Epoch 1/10, Train Loss: 10.0439, Test Loss: 5.2858, Total Time: 00 hours, 00 minutes, 34 seconds\n",
      "Epoch 2/10, Train Loss: 4.9589, Test Loss: 4.8279, Total Time: 00 hours, 00 minutes, 21 seconds\n",
      "Epoch 3/10, Train Loss: 4.7356, Test Loss: 4.7437, Total Time: 00 hours, 00 minutes, 21 seconds\n",
      "Epoch 4/10, Train Loss: 4.6189, Test Loss: 4.4553, Total Time: 00 hours, 00 minutes, 21 seconds\n",
      "Epoch 5/10, Train Loss: 4.2276, Test Loss: 3.7976, Total Time: 00 hours, 00 minutes, 21 seconds\n",
      "Epoch 6/10, Train Loss: 3.6506, Test Loss: 3.1461, Total Time: 00 hours, 00 minutes, 21 seconds\n",
      "Epoch 7/10, Train Loss: 2.7263, Test Loss: 1.8765, Total Time: 00 hours, 00 minutes, 21 seconds\n",
      "Epoch 8/10, Train Loss: 1.8104, Test Loss: 1.0881, Total Time: 00 hours, 00 minutes, 21 seconds\n",
      "Epoch 9/10, Train Loss: 1.2092, Test Loss: 0.8480, Total Time: 00 hours, 00 minutes, 21 seconds\n",
      "Epoch 10/10, Train Loss: 0.7776, Test Loss: 0.3459, Total Time: 00 hours, 00 minutes, 21 seconds\n"
     ]
    },
    {
     "name": "stderr",
     "output_type": "stream",
     "text": [
      "c:\\Users\\nnvuf\\AppData\\Local\\Programs\\Python\\Python310\\lib\\site-packages\\sklearn\\metrics\\_classification.py:1531: UndefinedMetricWarning: Precision is ill-defined and being set to 0.0 in labels with no predicted samples. Use `zero_division` parameter to control this behavior.\n",
      "  _warn_prf(average, modifier, f\"{metric.capitalize()} is\", len(result))\n",
      "c:\\Users\\nnvuf\\AppData\\Local\\Programs\\Python\\Python310\\lib\\site-packages\\sklearn\\metrics\\_classification.py:1531: UndefinedMetricWarning: Recall is ill-defined and being set to 0.0 in labels with no true samples. Use `zero_division` parameter to control this behavior.\n",
      "  _warn_prf(average, modifier, f\"{metric.capitalize()} is\", len(result))\n",
      "c:\\Users\\nnvuf\\AppData\\Local\\Programs\\Python\\Python310\\lib\\site-packages\\sklearn\\metrics\\_classification.py:1531: UndefinedMetricWarning: Precision is ill-defined and being set to 0.0 in labels with no predicted samples. Use `zero_division` parameter to control this behavior.\n",
      "  _warn_prf(average, modifier, f\"{metric.capitalize()} is\", len(result))\n",
      "c:\\Users\\nnvuf\\AppData\\Local\\Programs\\Python\\Python310\\lib\\site-packages\\sklearn\\metrics\\_classification.py:1531: UndefinedMetricWarning: Recall is ill-defined and being set to 0.0 in labels with no true samples. Use `zero_division` parameter to control this behavior.\n",
      "  _warn_prf(average, modifier, f\"{metric.capitalize()} is\", len(result))\n",
      "c:\\Users\\nnvuf\\AppData\\Local\\Programs\\Python\\Python310\\lib\\site-packages\\sklearn\\metrics\\_classification.py:1531: UndefinedMetricWarning: Precision is ill-defined and being set to 0.0 in labels with no predicted samples. Use `zero_division` parameter to control this behavior.\n",
      "  _warn_prf(average, modifier, f\"{metric.capitalize()} is\", len(result))\n",
      "c:\\Users\\nnvuf\\AppData\\Local\\Programs\\Python\\Python310\\lib\\site-packages\\sklearn\\metrics\\_classification.py:1531: UndefinedMetricWarning: Recall is ill-defined and being set to 0.0 in labels with no true samples. Use `zero_division` parameter to control this behavior.\n",
      "  _warn_prf(average, modifier, f\"{metric.capitalize()} is\", len(result))\n"
     ]
    },
    {
     "name": "stdout",
     "output_type": "stream",
     "text": [
      "Fold 1/5, Total Test Loss: 0.3459, Fold accuracy: 65.4141\n",
      "Fold 2/5:\n",
      "Epoch 1/10, Train Loss: 0.5130, Test Loss: 0.1284, Total Time: 00 hours, 00 minutes, 21 seconds\n",
      "Epoch 2/10, Train Loss: 0.3118, Test Loss: 0.2853, Total Time: 00 hours, 00 minutes, 21 seconds\n",
      "Epoch 3/10, Train Loss: 0.3201, Test Loss: 0.0998, Total Time: 00 hours, 00 minutes, 22 seconds\n",
      "Epoch 4/10, Train Loss: 0.2917, Test Loss: 0.1577, Total Time: 00 hours, 00 minutes, 22 seconds\n",
      "Epoch 5/10, Train Loss: 0.1594, Test Loss: 0.1004, Total Time: 00 hours, 00 minutes, 22 seconds\n",
      "Epoch 6/10, Train Loss: 0.1700, Test Loss: 0.1236, Total Time: 00 hours, 00 minutes, 21 seconds\n",
      "Epoch 7/10, Train Loss: 0.1889, Test Loss: 0.0428, Total Time: 00 hours, 00 minutes, 21 seconds\n",
      "Epoch 8/10, Train Loss: 0.0795, Test Loss: 0.0032, Total Time: 00 hours, 00 minutes, 22 seconds\n",
      "Epoch 9/10, Train Loss: 0.1511, Test Loss: 0.1153, Total Time: 00 hours, 00 minutes, 21 seconds\n",
      "Epoch 10/10, Train Loss: 0.1629, Test Loss: 0.0079, Total Time: 00 hours, 00 minutes, 21 seconds\n",
      "Fold 2/5, Total Test Loss: 0.3538, Fold accuracy: 99.2052\n",
      "Fold 3/5:\n",
      "Epoch 1/10, Train Loss: 0.1144, Test Loss: 0.0028, Total Time: 00 hours, 00 minutes, 22 seconds\n",
      "Epoch 2/10, Train Loss: 0.0372, Test Loss: 0.0029, Total Time: 00 hours, 00 minutes, 22 seconds\n",
      "Epoch 3/10, Train Loss: 0.0511, Test Loss: 0.0261, Total Time: 00 hours, 00 minutes, 21 seconds\n",
      "Epoch 4/10, Train Loss: 0.1041, Test Loss: 0.1115, Total Time: 00 hours, 00 minutes, 21 seconds\n",
      "Epoch 5/10, Train Loss: 0.0682, Test Loss: 0.0009, Total Time: 00 hours, 00 minutes, 21 seconds\n",
      "Epoch 6/10, Train Loss: 0.0776, Test Loss: 0.0743, Total Time: 00 hours, 00 minutes, 22 seconds\n",
      "Epoch 7/10, Train Loss: 0.1544, Test Loss: 0.0208, Total Time: 00 hours, 00 minutes, 21 seconds\n",
      "Epoch 8/10, Train Loss: 0.0873, Test Loss: 0.0178, Total Time: 00 hours, 00 minutes, 22 seconds\n",
      "Epoch 9/10, Train Loss: 0.0792, Test Loss: 0.0971, Total Time: 00 hours, 00 minutes, 22 seconds\n",
      "Epoch 10/10, Train Loss: 0.0994, Test Loss: 0.0056, Total Time: 00 hours, 00 minutes, 21 seconds\n",
      "Fold 3/5, Total Test Loss: 0.3594, Fold accuracy: 99.4422\n",
      "Fold 4/5:\n",
      "Epoch 1/10, Train Loss: 0.0282, Test Loss: 0.0027, Total Time: 00 hours, 00 minutes, 22 seconds\n",
      "Epoch 2/10, Train Loss: 0.0083, Test Loss: 0.0602, Total Time: 00 hours, 00 minutes, 22 seconds\n",
      "Epoch 3/10, Train Loss: 0.0940, Test Loss: 0.0191, Total Time: 00 hours, 00 minutes, 22 seconds\n",
      "Epoch 4/10, Train Loss: 0.1577, Test Loss: 0.0263, Total Time: 00 hours, 00 minutes, 22 seconds\n",
      "Epoch 5/10, Train Loss: 0.0409, Test Loss: 0.0000, Total Time: 00 hours, 00 minutes, 22 seconds\n",
      "Epoch 6/10, Train Loss: 0.0872, Test Loss: 0.0174, Total Time: 00 hours, 00 minutes, 22 seconds\n",
      "Epoch 7/10, Train Loss: 0.0593, Test Loss: 0.0009, Total Time: 00 hours, 00 minutes, 22 seconds\n",
      "Epoch 8/10, Train Loss: 0.0364, Test Loss: 0.0096, Total Time: 00 hours, 00 minutes, 22 seconds\n",
      "Epoch 9/10, Train Loss: 0.0250, Test Loss: 0.0088, Total Time: 00 hours, 00 minutes, 21 seconds\n",
      "Epoch 10/10, Train Loss: 0.0443, Test Loss: 0.0466, Total Time: 00 hours, 00 minutes, 22 seconds\n"
     ]
    },
    {
     "name": "stderr",
     "output_type": "stream",
     "text": [
      "c:\\Users\\nnvuf\\AppData\\Local\\Programs\\Python\\Python310\\lib\\site-packages\\sklearn\\metrics\\_classification.py:1531: UndefinedMetricWarning: Precision is ill-defined and being set to 0.0 in labels with no predicted samples. Use `zero_division` parameter to control this behavior.\n",
      "  _warn_prf(average, modifier, f\"{metric.capitalize()} is\", len(result))\n",
      "c:\\Users\\nnvuf\\AppData\\Local\\Programs\\Python\\Python310\\lib\\site-packages\\sklearn\\metrics\\_classification.py:1531: UndefinedMetricWarning: Precision is ill-defined and being set to 0.0 in labels with no predicted samples. Use `zero_division` parameter to control this behavior.\n",
      "  _warn_prf(average, modifier, f\"{metric.capitalize()} is\", len(result))\n",
      "c:\\Users\\nnvuf\\AppData\\Local\\Programs\\Python\\Python310\\lib\\site-packages\\sklearn\\metrics\\_classification.py:1531: UndefinedMetricWarning: Precision is ill-defined and being set to 0.0 in labels with no predicted samples. Use `zero_division` parameter to control this behavior.\n",
      "  _warn_prf(average, modifier, f\"{metric.capitalize()} is\", len(result))\n"
     ]
    },
    {
     "name": "stdout",
     "output_type": "stream",
     "text": [
      "Fold 4/5, Total Test Loss: 0.4060, Fold accuracy: 95.3354\n",
      "Fold 5/5:\n",
      "Epoch 1/10, Train Loss: 0.0768, Test Loss: 0.0076, Total Time: 00 hours, 00 minutes, 21 seconds\n",
      "Epoch 2/10, Train Loss: 0.0664, Test Loss: 0.0080, Total Time: 00 hours, 00 minutes, 21 seconds\n",
      "Epoch 3/10, Train Loss: 0.0342, Test Loss: 0.0000, Total Time: 00 hours, 00 minutes, 22 seconds\n",
      "Epoch 4/10, Train Loss: 0.1103, Test Loss: 0.3169, Total Time: 00 hours, 00 minutes, 22 seconds\n",
      "Epoch 5/10, Train Loss: 0.1463, Test Loss: 0.0141, Total Time: 00 hours, 00 minutes, 20 seconds\n",
      "Epoch 6/10, Train Loss: 0.0708, Test Loss: 0.0001, Total Time: 00 hours, 00 minutes, 20 seconds\n",
      "Epoch 7/10, Train Loss: 0.0425, Test Loss: 0.0252, Total Time: 00 hours, 00 minutes, 20 seconds\n",
      "Epoch 8/10, Train Loss: 0.0667, Test Loss: 0.0038, Total Time: 00 hours, 00 minutes, 20 seconds\n",
      "Epoch 9/10, Train Loss: 0.0314, Test Loss: 0.0006, Total Time: 00 hours, 00 minutes, 20 seconds\n",
      "Epoch 10/10, Train Loss: 0.0566, Test Loss: 0.0495, Total Time: 00 hours, 00 minutes, 20 seconds\n"
     ]
    },
    {
     "name": "stderr",
     "output_type": "stream",
     "text": [
      "c:\\Users\\nnvuf\\AppData\\Local\\Programs\\Python\\Python310\\lib\\site-packages\\sklearn\\metrics\\_classification.py:1531: UndefinedMetricWarning: Precision is ill-defined and being set to 0.0 in labels with no predicted samples. Use `zero_division` parameter to control this behavior.\n",
      "  _warn_prf(average, modifier, f\"{metric.capitalize()} is\", len(result))\n",
      "c:\\Users\\nnvuf\\AppData\\Local\\Programs\\Python\\Python310\\lib\\site-packages\\sklearn\\metrics\\_classification.py:1531: UndefinedMetricWarning: Precision is ill-defined and being set to 0.0 in labels with no predicted samples. Use `zero_division` parameter to control this behavior.\n",
      "  _warn_prf(average, modifier, f\"{metric.capitalize()} is\", len(result))\n",
      "c:\\Users\\nnvuf\\AppData\\Local\\Programs\\Python\\Python310\\lib\\site-packages\\sklearn\\metrics\\_classification.py:1531: UndefinedMetricWarning: Precision is ill-defined and being set to 0.0 in labels with no predicted samples. Use `zero_division` parameter to control this behavior.\n",
      "  _warn_prf(average, modifier, f\"{metric.capitalize()} is\", len(result))\n"
     ]
    },
    {
     "name": "stdout",
     "output_type": "stream",
     "text": [
      "Fold 5/5, Total Test Loss: 0.4555, Fold accuracy: 95.0518\n",
      "avg_loss:  0.0911028156952183\n",
      "model_scored: 0.0838, avg_accuracy: 91.6228\n",
      "Finished gi4e_full dataset with VGG\n",
      "----------------------\n",
      "Running gi4e_raw_eyes dataset with ResNet\n",
      "device:  cuda\n",
      "Fold 1/5:\n",
      "Epoch 1/10, Train Loss: 2.2123, Test Loss: 3.1028, Total Time: 00 hours, 00 minutes, 24 seconds\n",
      "Epoch 2/10, Train Loss: 0.2066, Test Loss: 0.3294, Total Time: 00 hours, 00 minutes, 10 seconds\n",
      "Epoch 3/10, Train Loss: 0.0576, Test Loss: 0.8621, Total Time: 00 hours, 00 minutes, 10 seconds\n",
      "Epoch 4/10, Train Loss: 0.0805, Test Loss: 0.8998, Total Time: 00 hours, 00 minutes, 10 seconds\n",
      "Epoch 5/10, Train Loss: 0.0275, Test Loss: 0.0835, Total Time: 00 hours, 00 minutes, 10 seconds\n",
      "Epoch 6/10, Train Loss: 0.0148, Test Loss: 0.1665, Total Time: 00 hours, 00 minutes, 10 seconds\n",
      "Epoch 7/10, Train Loss: 0.0153, Test Loss: 0.0690, Total Time: 00 hours, 00 minutes, 10 seconds\n",
      "Epoch 8/10, Train Loss: 0.0283, Test Loss: 0.1105, Total Time: 00 hours, 00 minutes, 10 seconds\n",
      "Epoch 9/10, Train Loss: 0.0369, Test Loss: 0.2005, Total Time: 00 hours, 00 minutes, 10 seconds\n",
      "Epoch 10/10, Train Loss: 0.0457, Test Loss: 0.1938, Total Time: 00 hours, 00 minutes, 10 seconds\n",
      "Fold 1/5, Total Test Loss: 0.1938, Fold accuracy: 80.6165\n",
      "Fold 2/5:\n",
      "Epoch 1/10, Train Loss: 0.0570, Test Loss: 0.1026, Total Time: 00 hours, 00 minutes, 10 seconds\n",
      "Epoch 2/10, Train Loss: 0.0109, Test Loss: 0.0014, Total Time: 00 hours, 00 minutes, 10 seconds\n",
      "Epoch 3/10, Train Loss: 0.0092, Test Loss: 0.0546, Total Time: 00 hours, 00 minutes, 10 seconds\n",
      "Epoch 4/10, Train Loss: 0.0162, Test Loss: 0.0670, Total Time: 00 hours, 00 minutes, 10 seconds\n",
      "Epoch 5/10, Train Loss: 0.0146, Test Loss: 0.0344, Total Time: 00 hours, 00 minutes, 10 seconds\n",
      "Epoch 6/10, Train Loss: 0.0128, Test Loss: 0.0095, Total Time: 00 hours, 00 minutes, 10 seconds\n",
      "Epoch 7/10, Train Loss: 0.0237, Test Loss: 0.0775, Total Time: 00 hours, 00 minutes, 10 seconds\n",
      "Epoch 8/10, Train Loss: 0.0159, Test Loss: 0.0471, Total Time: 00 hours, 00 minutes, 10 seconds\n",
      "Epoch 9/10, Train Loss: 0.0069, Test Loss: 0.0307, Total Time: 00 hours, 00 minutes, 10 seconds\n",
      "Epoch 10/10, Train Loss: 0.0850, Test Loss: 0.3743, Total Time: 00 hours, 00 minutes, 10 seconds\n"
     ]
    },
    {
     "name": "stderr",
     "output_type": "stream",
     "text": [
      "c:\\Users\\nnvuf\\AppData\\Local\\Programs\\Python\\Python310\\lib\\site-packages\\sklearn\\metrics\\_classification.py:1531: UndefinedMetricWarning: Precision is ill-defined and being set to 0.0 in labels with no predicted samples. Use `zero_division` parameter to control this behavior.\n",
      "  _warn_prf(average, modifier, f\"{metric.capitalize()} is\", len(result))\n",
      "c:\\Users\\nnvuf\\AppData\\Local\\Programs\\Python\\Python310\\lib\\site-packages\\sklearn\\metrics\\_classification.py:1531: UndefinedMetricWarning: Precision is ill-defined and being set to 0.0 in labels with no predicted samples. Use `zero_division` parameter to control this behavior.\n",
      "  _warn_prf(average, modifier, f\"{metric.capitalize()} is\", len(result))\n",
      "c:\\Users\\nnvuf\\AppData\\Local\\Programs\\Python\\Python310\\lib\\site-packages\\sklearn\\metrics\\_classification.py:1531: UndefinedMetricWarning: Precision is ill-defined and being set to 0.0 in labels with no predicted samples. Use `zero_division` parameter to control this behavior.\n",
      "  _warn_prf(average, modifier, f\"{metric.capitalize()} is\", len(result))\n"
     ]
    },
    {
     "name": "stdout",
     "output_type": "stream",
     "text": [
      "Fold 2/5, Total Test Loss: 0.5681, Fold accuracy: 62.5746\n",
      "Fold 3/5:\n",
      "Epoch 1/10, Train Loss: 0.1244, Test Loss: 0.1392, Total Time: 00 hours, 00 minutes, 10 seconds\n",
      "Epoch 2/10, Train Loss: 0.0368, Test Loss: 0.0856, Total Time: 00 hours, 00 minutes, 10 seconds\n",
      "Epoch 3/10, Train Loss: 0.0169, Test Loss: 0.0453, Total Time: 00 hours, 00 minutes, 10 seconds\n",
      "Epoch 4/10, Train Loss: 0.0036, Test Loss: 0.0167, Total Time: 00 hours, 00 minutes, 10 seconds\n",
      "Epoch 5/10, Train Loss: 0.0008, Test Loss: 0.0124, Total Time: 00 hours, 00 minutes, 10 seconds\n",
      "Epoch 6/10, Train Loss: 0.0003, Test Loss: 0.0106, Total Time: 00 hours, 00 minutes, 10 seconds\n",
      "Epoch 7/10, Train Loss: 0.0002, Test Loss: 0.0108, Total Time: 00 hours, 00 minutes, 10 seconds\n",
      "Epoch 8/10, Train Loss: 0.0001, Test Loss: 0.0130, Total Time: 00 hours, 00 minutes, 10 seconds\n",
      "Epoch 9/10, Train Loss: 0.0002, Test Loss: 0.0118, Total Time: 00 hours, 00 minutes, 10 seconds\n",
      "Epoch 10/10, Train Loss: 0.0001, Test Loss: 0.0109, Total Time: 00 hours, 00 minutes, 10 seconds\n",
      "Fold 3/5, Total Test Loss: 0.5790, Fold accuracy: 98.9128\n",
      "Fold 4/5:\n",
      "Epoch 1/10, Train Loss: 0.0028, Test Loss: 0.0006, Total Time: 00 hours, 00 minutes, 10 seconds\n",
      "Epoch 2/10, Train Loss: 0.0131, Test Loss: 0.0063, Total Time: 00 hours, 00 minutes, 10 seconds\n",
      "Epoch 3/10, Train Loss: 0.0031, Test Loss: 0.0014, Total Time: 00 hours, 00 minutes, 10 seconds\n",
      "Epoch 4/10, Train Loss: 0.0010, Test Loss: 0.0002, Total Time: 00 hours, 00 minutes, 10 seconds\n",
      "Epoch 5/10, Train Loss: 0.0002, Test Loss: 0.0001, Total Time: 00 hours, 00 minutes, 10 seconds\n",
      "Epoch 6/10, Train Loss: 0.0001, Test Loss: 0.0001, Total Time: 00 hours, 00 minutes, 10 seconds\n",
      "Epoch 7/10, Train Loss: 0.0003, Test Loss: 0.0001, Total Time: 00 hours, 00 minutes, 10 seconds\n",
      "Epoch 8/10, Train Loss: 0.0371, Test Loss: 0.1516, Total Time: 00 hours, 00 minutes, 10 seconds\n",
      "Epoch 9/10, Train Loss: 0.0188, Test Loss: 0.1137, Total Time: 00 hours, 00 minutes, 10 seconds\n",
      "Epoch 10/10, Train Loss: 0.0235, Test Loss: 0.1049, Total Time: 00 hours, 00 minutes, 10 seconds\n"
     ]
    },
    {
     "name": "stderr",
     "output_type": "stream",
     "text": [
      "c:\\Users\\nnvuf\\AppData\\Local\\Programs\\Python\\Python310\\lib\\site-packages\\sklearn\\metrics\\_classification.py:1531: UndefinedMetricWarning: Precision is ill-defined and being set to 0.0 in labels with no predicted samples. Use `zero_division` parameter to control this behavior.\n",
      "  _warn_prf(average, modifier, f\"{metric.capitalize()} is\", len(result))\n",
      "c:\\Users\\nnvuf\\AppData\\Local\\Programs\\Python\\Python310\\lib\\site-packages\\sklearn\\metrics\\_classification.py:1531: UndefinedMetricWarning: Precision is ill-defined and being set to 0.0 in labels with no predicted samples. Use `zero_division` parameter to control this behavior.\n",
      "  _warn_prf(average, modifier, f\"{metric.capitalize()} is\", len(result))\n",
      "c:\\Users\\nnvuf\\AppData\\Local\\Programs\\Python\\Python310\\lib\\site-packages\\sklearn\\metrics\\_classification.py:1531: UndefinedMetricWarning: Precision is ill-defined and being set to 0.0 in labels with no predicted samples. Use `zero_division` parameter to control this behavior.\n",
      "  _warn_prf(average, modifier, f\"{metric.capitalize()} is\", len(result))\n"
     ]
    },
    {
     "name": "stdout",
     "output_type": "stream",
     "text": [
      "Fold 4/5, Total Test Loss: 0.6839, Fold accuracy: 89.5100\n",
      "Fold 5/5:\n",
      "Epoch 1/10, Train Loss: 0.0822, Test Loss: 0.9447, Total Time: 00 hours, 00 minutes, 10 seconds\n",
      "Epoch 2/10, Train Loss: 0.0530, Test Loss: 1.1110, Total Time: 00 hours, 00 minutes, 10 seconds\n",
      "Epoch 3/10, Train Loss: 0.0668, Test Loss: 0.8884, Total Time: 00 hours, 00 minutes, 10 seconds\n",
      "Epoch 4/10, Train Loss: 0.0623, Test Loss: 1.8610, Total Time: 00 hours, 00 minutes, 10 seconds\n",
      "Epoch 5/10, Train Loss: 0.0898, Test Loss: 0.3392, Total Time: 00 hours, 00 minutes, 10 seconds\n",
      "Epoch 6/10, Train Loss: 0.0251, Test Loss: 0.0775, Total Time: 00 hours, 00 minutes, 10 seconds\n",
      "Epoch 7/10, Train Loss: 0.0057, Test Loss: 0.0153, Total Time: 00 hours, 00 minutes, 10 seconds\n",
      "Epoch 8/10, Train Loss: 0.0022, Test Loss: 0.0058, Total Time: 00 hours, 00 minutes, 10 seconds\n",
      "Epoch 9/10, Train Loss: 0.0019, Test Loss: 0.0213, Total Time: 00 hours, 00 minutes, 10 seconds\n",
      "Epoch 10/10, Train Loss: 0.0157, Test Loss: 0.0556, Total Time: 00 hours, 00 minutes, 10 seconds\n",
      "Fold 5/5, Total Test Loss: 0.7395, Fold accuracy: 94.4366\n",
      "avg_loss:  0.14789900037145046\n",
      "model_scored: 0.1355, avg_accuracy: 86.4461\n",
      "Finished gi4e_raw_eyes dataset with ResNet\n",
      "----------------------\n",
      "Running gi4e_raw_eyes dataset with DenseNet\n",
      "device:  cuda\n",
      "Fold 1/5:\n",
      "Epoch 1/10, Train Loss: 1.8837, Test Loss: 1.0118, Total Time: 00 hours, 00 minutes, 15 seconds\n",
      "Epoch 2/10, Train Loss: 0.1412, Test Loss: 0.1393, Total Time: 00 hours, 00 minutes, 11 seconds\n",
      "Epoch 3/10, Train Loss: 0.0219, Test Loss: 0.0525, Total Time: 00 hours, 00 minutes, 11 seconds\n",
      "Epoch 4/10, Train Loss: 0.0199, Test Loss: 0.0582, Total Time: 00 hours, 00 minutes, 11 seconds\n",
      "Epoch 5/10, Train Loss: 0.0082, Test Loss: 0.0445, Total Time: 00 hours, 00 minutes, 11 seconds\n",
      "Epoch 6/10, Train Loss: 0.0291, Test Loss: 0.0629, Total Time: 00 hours, 00 minutes, 11 seconds\n",
      "Epoch 7/10, Train Loss: 0.0058, Test Loss: 0.0631, Total Time: 00 hours, 00 minutes, 11 seconds\n",
      "Epoch 8/10, Train Loss: 0.0025, Test Loss: 0.0280, Total Time: 00 hours, 00 minutes, 11 seconds\n",
      "Epoch 9/10, Train Loss: 0.0013, Test Loss: 0.0321, Total Time: 00 hours, 00 minutes, 11 seconds\n",
      "Epoch 10/10, Train Loss: 0.0009, Test Loss: 0.0271, Total Time: 00 hours, 00 minutes, 11 seconds\n",
      "Fold 1/5, Total Test Loss: 0.0271, Fold accuracy: 97.2909\n",
      "Fold 2/5:\n",
      "Epoch 1/10, Train Loss: 0.0866, Test Loss: 0.7220, Total Time: 00 hours, 00 minutes, 11 seconds\n",
      "Epoch 2/10, Train Loss: 0.0527, Test Loss: 0.0493, Total Time: 00 hours, 00 minutes, 11 seconds\n",
      "Epoch 3/10, Train Loss: 0.0124, Test Loss: 0.0774, Total Time: 00 hours, 00 minutes, 11 seconds\n",
      "Epoch 4/10, Train Loss: 0.0223, Test Loss: 0.0860, Total Time: 00 hours, 00 minutes, 11 seconds\n",
      "Epoch 5/10, Train Loss: 0.1161, Test Loss: 0.7120, Total Time: 00 hours, 00 minutes, 11 seconds\n",
      "Epoch 6/10, Train Loss: 0.0669, Test Loss: 0.1337, Total Time: 00 hours, 00 minutes, 11 seconds\n",
      "Epoch 7/10, Train Loss: 0.0512, Test Loss: 0.5712, Total Time: 00 hours, 00 minutes, 11 seconds\n",
      "Epoch 8/10, Train Loss: 0.0225, Test Loss: 0.0491, Total Time: 00 hours, 00 minutes, 11 seconds\n",
      "Epoch 9/10, Train Loss: 0.0041, Test Loss: 0.0126, Total Time: 00 hours, 00 minutes, 11 seconds\n",
      "Epoch 10/10, Train Loss: 0.0011, Test Loss: 0.0045, Total Time: 00 hours, 00 minutes, 11 seconds\n",
      "Fold 2/5, Total Test Loss: 0.0316, Fold accuracy: 99.5459\n",
      "Fold 3/5:\n",
      "Epoch 1/10, Train Loss: 0.0018, Test Loss: 0.0002, Total Time: 00 hours, 00 minutes, 11 seconds\n",
      "Epoch 2/10, Train Loss: 0.0008, Test Loss: 0.0002, Total Time: 00 hours, 00 minutes, 11 seconds\n",
      "Epoch 3/10, Train Loss: 0.0004, Test Loss: 0.0001, Total Time: 00 hours, 00 minutes, 11 seconds\n",
      "Epoch 4/10, Train Loss: 0.0004, Test Loss: 0.0001, Total Time: 00 hours, 00 minutes, 11 seconds\n",
      "Epoch 5/10, Train Loss: 0.0003, Test Loss: 0.0001, Total Time: 00 hours, 00 minutes, 11 seconds\n",
      "Epoch 6/10, Train Loss: 0.0002, Test Loss: 0.0001, Total Time: 00 hours, 00 minutes, 11 seconds\n",
      "Epoch 7/10, Train Loss: 0.0003, Test Loss: 0.0001, Total Time: 00 hours, 00 minutes, 11 seconds\n",
      "Epoch 8/10, Train Loss: 0.0002, Test Loss: 0.0001, Total Time: 00 hours, 00 minutes, 11 seconds\n",
      "Epoch 9/10, Train Loss: 0.0002, Test Loss: 0.0001, Total Time: 00 hours, 00 minutes, 11 seconds\n",
      "Epoch 10/10, Train Loss: 0.0002, Test Loss: 0.0001, Total Time: 00 hours, 00 minutes, 11 seconds\n",
      "Fold 3/5, Total Test Loss: 0.0317, Fold accuracy: 99.9928\n",
      "Fold 4/5:\n",
      "Epoch 1/10, Train Loss: 0.0002, Test Loss: 0.0000, Total Time: 00 hours, 00 minutes, 11 seconds\n",
      "Epoch 2/10, Train Loss: 0.0002, Test Loss: 0.0000, Total Time: 00 hours, 00 minutes, 11 seconds\n",
      "Epoch 3/10, Train Loss: 0.0002, Test Loss: 0.0000, Total Time: 00 hours, 00 minutes, 11 seconds\n",
      "Epoch 4/10, Train Loss: 0.0002, Test Loss: 0.0000, Total Time: 00 hours, 00 minutes, 11 seconds\n",
      "Epoch 5/10, Train Loss: 0.0002, Test Loss: 0.0000, Total Time: 00 hours, 00 minutes, 11 seconds\n",
      "Epoch 6/10, Train Loss: 0.0001, Test Loss: 0.0000, Total Time: 00 hours, 00 minutes, 11 seconds\n",
      "Epoch 7/10, Train Loss: 0.0001, Test Loss: 0.0000, Total Time: 00 hours, 00 minutes, 11 seconds\n",
      "Epoch 8/10, Train Loss: 0.0001, Test Loss: 0.0000, Total Time: 00 hours, 00 minutes, 11 seconds\n",
      "Epoch 9/10, Train Loss: 0.0001, Test Loss: 0.0000, Total Time: 00 hours, 00 minutes, 11 seconds\n",
      "Epoch 10/10, Train Loss: 0.0001, Test Loss: 0.0000, Total Time: 00 hours, 00 minutes, 11 seconds\n",
      "Fold 4/5, Total Test Loss: 0.0317, Fold accuracy: 99.9972\n",
      "Fold 5/5:\n",
      "Epoch 1/10, Train Loss: 0.0001, Test Loss: 0.0000, Total Time: 00 hours, 00 minutes, 11 seconds\n",
      "Epoch 2/10, Train Loss: 0.0001, Test Loss: 0.0000, Total Time: 00 hours, 00 minutes, 11 seconds\n",
      "Epoch 3/10, Train Loss: 0.0001, Test Loss: 0.0000, Total Time: 00 hours, 00 minutes, 11 seconds\n",
      "Epoch 4/10, Train Loss: 0.0001, Test Loss: 0.0000, Total Time: 00 hours, 00 minutes, 11 seconds\n",
      "Epoch 5/10, Train Loss: 0.0001, Test Loss: 0.0000, Total Time: 00 hours, 00 minutes, 11 seconds\n",
      "Epoch 6/10, Train Loss: 0.0001, Test Loss: 0.0000, Total Time: 00 hours, 00 minutes, 11 seconds\n",
      "Epoch 7/10, Train Loss: 0.0001, Test Loss: 0.0000, Total Time: 00 hours, 00 minutes, 11 seconds\n",
      "Epoch 8/10, Train Loss: 0.0001, Test Loss: 0.0000, Total Time: 00 hours, 00 minutes, 11 seconds\n",
      "Epoch 9/10, Train Loss: 0.0001, Test Loss: 0.0000, Total Time: 00 hours, 00 minutes, 11 seconds\n",
      "Epoch 10/10, Train Loss: 0.0001, Test Loss: 0.0000, Total Time: 00 hours, 00 minutes, 11 seconds\n",
      "Fold 5/5, Total Test Loss: 0.0318, Fold accuracy: 99.9980\n",
      "avg_loss:  0.006350190304828508\n",
      "model_scored: 0.0319, avg_accuracy: 96.8050\n",
      "Finished gi4e_raw_eyes dataset with DenseNet\n",
      "----------------------\n",
      "Running gi4e_raw_eyes dataset with VGG\n",
      "device:  cuda\n",
      "Fold 1/5:\n",
      "Epoch 1/10, Train Loss: 4.9558, Test Loss: 4.7174, Total Time: 00 hours, 00 minutes, 22 seconds\n",
      "Epoch 2/10, Train Loss: 4.7210, Test Loss: 4.7059, Total Time: 00 hours, 00 minutes, 16 seconds\n",
      "Epoch 3/10, Train Loss: 4.6964, Test Loss: 4.6908, Total Time: 00 hours, 00 minutes, 16 seconds\n",
      "Epoch 4/10, Train Loss: 4.6814, Test Loss: 4.6817, Total Time: 00 hours, 00 minutes, 16 seconds\n",
      "Epoch 5/10, Train Loss: 4.6152, Test Loss: 4.4391, Total Time: 00 hours, 00 minutes, 16 seconds\n",
      "Epoch 6/10, Train Loss: 4.2059, Test Loss: 3.9730, Total Time: 00 hours, 00 minutes, 16 seconds\n",
      "Epoch 7/10, Train Loss: 3.7645, Test Loss: 3.5660, Total Time: 00 hours, 00 minutes, 16 seconds\n",
      "Epoch 8/10, Train Loss: 3.2896, Test Loss: 3.2742, Total Time: 00 hours, 00 minutes, 16 seconds\n",
      "Epoch 9/10, Train Loss: 2.9118, Test Loss: 2.5781, Total Time: 00 hours, 00 minutes, 16 seconds\n",
      "Epoch 10/10, Train Loss: 2.4556, Test Loss: 2.0419, Total Time: 00 hours, 00 minutes, 16 seconds\n"
     ]
    },
    {
     "name": "stderr",
     "output_type": "stream",
     "text": [
      "c:\\Users\\nnvuf\\AppData\\Local\\Programs\\Python\\Python310\\lib\\site-packages\\sklearn\\metrics\\_classification.py:1531: UndefinedMetricWarning: Precision is ill-defined and being set to 0.0 in labels with no predicted samples. Use `zero_division` parameter to control this behavior.\n",
      "  _warn_prf(average, modifier, f\"{metric.capitalize()} is\", len(result))\n",
      "c:\\Users\\nnvuf\\AppData\\Local\\Programs\\Python\\Python310\\lib\\site-packages\\sklearn\\metrics\\_classification.py:1531: UndefinedMetricWarning: Recall is ill-defined and being set to 0.0 in labels with no true samples. Use `zero_division` parameter to control this behavior.\n",
      "  _warn_prf(average, modifier, f\"{metric.capitalize()} is\", len(result))\n",
      "c:\\Users\\nnvuf\\AppData\\Local\\Programs\\Python\\Python310\\lib\\site-packages\\sklearn\\metrics\\_classification.py:1531: UndefinedMetricWarning: Precision is ill-defined and being set to 0.0 in labels with no predicted samples. Use `zero_division` parameter to control this behavior.\n",
      "  _warn_prf(average, modifier, f\"{metric.capitalize()} is\", len(result))\n",
      "c:\\Users\\nnvuf\\AppData\\Local\\Programs\\Python\\Python310\\lib\\site-packages\\sklearn\\metrics\\_classification.py:1531: UndefinedMetricWarning: Recall is ill-defined and being set to 0.0 in labels with no true samples. Use `zero_division` parameter to control this behavior.\n",
      "  _warn_prf(average, modifier, f\"{metric.capitalize()} is\", len(result))\n",
      "c:\\Users\\nnvuf\\AppData\\Local\\Programs\\Python\\Python310\\lib\\site-packages\\sklearn\\metrics\\_classification.py:1531: UndefinedMetricWarning: Precision is ill-defined and being set to 0.0 in labels with no predicted samples. Use `zero_division` parameter to control this behavior.\n",
      "  _warn_prf(average, modifier, f\"{metric.capitalize()} is\", len(result))\n",
      "c:\\Users\\nnvuf\\AppData\\Local\\Programs\\Python\\Python310\\lib\\site-packages\\sklearn\\metrics\\_classification.py:1531: UndefinedMetricWarning: Recall is ill-defined and being set to 0.0 in labels with no true samples. Use `zero_division` parameter to control this behavior.\n",
      "  _warn_prf(average, modifier, f\"{metric.capitalize()} is\", len(result))\n"
     ]
    },
    {
     "name": "stdout",
     "output_type": "stream",
     "text": [
      "Fold 1/5, Total Test Loss: 2.0419, Fold accuracy: -104.1859\n",
      "Fold 2/5:\n",
      "Epoch 1/10, Train Loss: 1.9439, Test Loss: 1.6962, Total Time: 00 hours, 00 minutes, 16 seconds\n",
      "Epoch 2/10, Train Loss: 1.5492, Test Loss: 1.3276, Total Time: 00 hours, 00 minutes, 16 seconds\n",
      "Epoch 3/10, Train Loss: 1.3206, Test Loss: 1.1307, Total Time: 00 hours, 00 minutes, 16 seconds\n",
      "Epoch 4/10, Train Loss: 1.0421, Test Loss: 0.9509, Total Time: 00 hours, 00 minutes, 16 seconds\n",
      "Epoch 5/10, Train Loss: 0.7913, Test Loss: 0.8644, Total Time: 00 hours, 00 minutes, 16 seconds\n",
      "Epoch 6/10, Train Loss: 0.6523, Test Loss: 0.7011, Total Time: 00 hours, 00 minutes, 16 seconds\n",
      "Epoch 7/10, Train Loss: 0.6072, Test Loss: 0.6225, Total Time: 00 hours, 00 minutes, 16 seconds\n",
      "Epoch 8/10, Train Loss: 0.4683, Test Loss: 0.5719, Total Time: 00 hours, 00 minutes, 16 seconds\n",
      "Epoch 9/10, Train Loss: 0.4708, Test Loss: 0.4995, Total Time: 00 hours, 00 minutes, 16 seconds\n",
      "Epoch 10/10, Train Loss: 0.4166, Test Loss: 0.4182, Total Time: 00 hours, 00 minutes, 16 seconds\n"
     ]
    },
    {
     "name": "stderr",
     "output_type": "stream",
     "text": [
      "c:\\Users\\nnvuf\\AppData\\Local\\Programs\\Python\\Python310\\lib\\site-packages\\sklearn\\metrics\\_classification.py:1531: UndefinedMetricWarning: Recall is ill-defined and being set to 0.0 in labels with no true samples. Use `zero_division` parameter to control this behavior.\n",
      "  _warn_prf(average, modifier, f\"{metric.capitalize()} is\", len(result))\n",
      "c:\\Users\\nnvuf\\AppData\\Local\\Programs\\Python\\Python310\\lib\\site-packages\\sklearn\\metrics\\_classification.py:1531: UndefinedMetricWarning: Recall is ill-defined and being set to 0.0 in labels with no true samples. Use `zero_division` parameter to control this behavior.\n",
      "  _warn_prf(average, modifier, f\"{metric.capitalize()} is\", len(result))\n",
      "c:\\Users\\nnvuf\\AppData\\Local\\Programs\\Python\\Python310\\lib\\site-packages\\sklearn\\metrics\\_classification.py:1531: UndefinedMetricWarning: Recall is ill-defined and being set to 0.0 in labels with no true samples. Use `zero_division` parameter to control this behavior.\n",
      "  _warn_prf(average, modifier, f\"{metric.capitalize()} is\", len(result))\n"
     ]
    },
    {
     "name": "stdout",
     "output_type": "stream",
     "text": [
      "Fold 2/5, Total Test Loss: 2.4601, Fold accuracy: 58.1767\n",
      "Fold 3/5:\n",
      "Epoch 1/10, Train Loss: 0.3704, Test Loss: 0.1068, Total Time: 00 hours, 00 minutes, 16 seconds\n",
      "Epoch 2/10, Train Loss: 0.3973, Test Loss: 0.1038, Total Time: 00 hours, 00 minutes, 16 seconds\n",
      "Epoch 3/10, Train Loss: 0.2459, Test Loss: 0.1420, Total Time: 00 hours, 00 minutes, 16 seconds\n",
      "Epoch 4/10, Train Loss: 0.2813, Test Loss: 0.0838, Total Time: 00 hours, 00 minutes, 16 seconds\n",
      "Epoch 5/10, Train Loss: 0.2345, Test Loss: 0.2313, Total Time: 00 hours, 00 minutes, 16 seconds\n",
      "Epoch 6/10, Train Loss: 0.2908, Test Loss: 0.1200, Total Time: 00 hours, 00 minutes, 16 seconds\n",
      "Epoch 7/10, Train Loss: 0.1530, Test Loss: 0.0965, Total Time: 00 hours, 00 minutes, 16 seconds\n",
      "Epoch 8/10, Train Loss: 0.1536, Test Loss: 0.0990, Total Time: 00 hours, 00 minutes, 16 seconds\n",
      "Epoch 9/10, Train Loss: 0.1650, Test Loss: 0.2159, Total Time: 00 hours, 00 minutes, 16 seconds\n",
      "Epoch 10/10, Train Loss: 0.1883, Test Loss: 0.1208, Total Time: 00 hours, 00 minutes, 16 seconds\n"
     ]
    },
    {
     "name": "stderr",
     "output_type": "stream",
     "text": [
      "c:\\Users\\nnvuf\\AppData\\Local\\Programs\\Python\\Python310\\lib\\site-packages\\sklearn\\metrics\\_classification.py:1531: UndefinedMetricWarning: Precision is ill-defined and being set to 0.0 in labels with no predicted samples. Use `zero_division` parameter to control this behavior.\n",
      "  _warn_prf(average, modifier, f\"{metric.capitalize()} is\", len(result))\n",
      "c:\\Users\\nnvuf\\AppData\\Local\\Programs\\Python\\Python310\\lib\\site-packages\\sklearn\\metrics\\_classification.py:1531: UndefinedMetricWarning: Precision is ill-defined and being set to 0.0 in labels with no predicted samples. Use `zero_division` parameter to control this behavior.\n",
      "  _warn_prf(average, modifier, f\"{metric.capitalize()} is\", len(result))\n",
      "c:\\Users\\nnvuf\\AppData\\Local\\Programs\\Python\\Python310\\lib\\site-packages\\sklearn\\metrics\\_classification.py:1531: UndefinedMetricWarning: Precision is ill-defined and being set to 0.0 in labels with no predicted samples. Use `zero_division` parameter to control this behavior.\n",
      "  _warn_prf(average, modifier, f\"{metric.capitalize()} is\", len(result))\n"
     ]
    },
    {
     "name": "stdout",
     "output_type": "stream",
     "text": [
      "Fold 3/5, Total Test Loss: 2.5809, Fold accuracy: 87.9165\n",
      "Fold 4/5:\n",
      "Epoch 1/10, Train Loss: 0.2299, Test Loss: 0.0443, Total Time: 00 hours, 00 minutes, 16 seconds\n",
      "Epoch 2/10, Train Loss: 0.1990, Test Loss: 0.0829, Total Time: 00 hours, 00 minutes, 16 seconds\n",
      "Epoch 3/10, Train Loss: 0.1829, Test Loss: 0.0609, Total Time: 00 hours, 00 minutes, 16 seconds\n",
      "Epoch 4/10, Train Loss: 0.1484, Test Loss: 0.0390, Total Time: 00 hours, 00 minutes, 16 seconds\n",
      "Epoch 5/10, Train Loss: 0.1098, Test Loss: 0.0342, Total Time: 00 hours, 00 minutes, 16 seconds\n",
      "Epoch 6/10, Train Loss: 0.0843, Test Loss: 0.0448, Total Time: 00 hours, 00 minutes, 16 seconds\n",
      "Epoch 7/10, Train Loss: 0.1572, Test Loss: 0.2328, Total Time: 00 hours, 00 minutes, 16 seconds\n",
      "Epoch 8/10, Train Loss: 0.1571, Test Loss: 0.0241, Total Time: 00 hours, 00 minutes, 16 seconds\n",
      "Epoch 9/10, Train Loss: 0.0851, Test Loss: 0.0623, Total Time: 00 hours, 00 minutes, 16 seconds\n",
      "Epoch 10/10, Train Loss: 0.1007, Test Loss: 0.0372, Total Time: 00 hours, 00 minutes, 16 seconds\n",
      "Fold 4/5, Total Test Loss: 2.6181, Fold accuracy: 96.2813\n",
      "Fold 5/5:\n",
      "Epoch 1/10, Train Loss: 0.0997, Test Loss: 0.0396, Total Time: 00 hours, 00 minutes, 16 seconds\n",
      "Epoch 2/10, Train Loss: 0.0826, Test Loss: 0.0183, Total Time: 00 hours, 00 minutes, 16 seconds\n",
      "Epoch 3/10, Train Loss: 0.0618, Test Loss: 0.0102, Total Time: 00 hours, 00 minutes, 16 seconds\n",
      "Epoch 4/10, Train Loss: 0.0460, Test Loss: 0.0184, Total Time: 00 hours, 00 minutes, 16 seconds\n",
      "Epoch 5/10, Train Loss: 0.0999, Test Loss: 0.0407, Total Time: 00 hours, 00 minutes, 16 seconds\n",
      "Epoch 6/10, Train Loss: 0.1101, Test Loss: 0.0560, Total Time: 00 hours, 00 minutes, 16 seconds\n",
      "Epoch 7/10, Train Loss: 0.1033, Test Loss: 0.0222, Total Time: 00 hours, 00 minutes, 16 seconds\n",
      "Epoch 8/10, Train Loss: 0.0622, Test Loss: 0.1260, Total Time: 00 hours, 00 minutes, 16 seconds\n",
      "Epoch 9/10, Train Loss: 0.1006, Test Loss: 0.0135, Total Time: 00 hours, 00 minutes, 16 seconds\n",
      "Epoch 10/10, Train Loss: 0.0266, Test Loss: 0.0607, Total Time: 00 hours, 00 minutes, 16 seconds\n",
      "Fold 5/5, Total Test Loss: 2.6788, Fold accuracy: 93.9293\n",
      "avg_loss:  0.5357640166937879\n",
      "model_scored: 0.5625, avg_accuracy: 43.7503\n",
      "Finished gi4e_raw_eyes dataset with VGG\n",
      "----------------------\n",
      "Running gi4e_detected_eyes dataset with ResNet\n",
      "device:  cuda\n",
      "Fold 1/5:\n",
      "Epoch 1/10, Train Loss: 0.0764, Test Loss: 0.6027, Total Time: 00 hours, 00 minutes, 25 seconds\n",
      "Epoch 2/10, Train Loss: 0.0200, Test Loss: 0.1588, Total Time: 00 hours, 00 minutes, 10 seconds\n",
      "Epoch 3/10, Train Loss: 0.0054, Test Loss: 0.0017, Total Time: 00 hours, 00 minutes, 10 seconds\n",
      "Epoch 4/10, Train Loss: 0.0180, Test Loss: 3.3455, Total Time: 00 hours, 00 minutes, 10 seconds\n",
      "Epoch 5/10, Train Loss: 0.0351, Test Loss: 1.2739, Total Time: 00 hours, 00 minutes, 10 seconds\n",
      "Epoch 6/10, Train Loss: 0.0780, Test Loss: 0.3246, Total Time: 00 hours, 00 minutes, 10 seconds\n",
      "Epoch 7/10, Train Loss: 0.0475, Test Loss: 0.2516, Total Time: 00 hours, 00 minutes, 10 seconds\n",
      "Epoch 8/10, Train Loss: 0.0374, Test Loss: 0.1096, Total Time: 00 hours, 00 minutes, 10 seconds\n",
      "Epoch 9/10, Train Loss: 0.0111, Test Loss: 0.0448, Total Time: 00 hours, 00 minutes, 10 seconds\n",
      "Epoch 10/10, Train Loss: 0.0088, Test Loss: 0.1177, Total Time: 00 hours, 00 minutes, 10 seconds\n"
     ]
    },
    {
     "name": "stderr",
     "output_type": "stream",
     "text": [
      "c:\\Users\\nnvuf\\AppData\\Local\\Programs\\Python\\Python310\\lib\\site-packages\\sklearn\\metrics\\_classification.py:1531: UndefinedMetricWarning: Precision is ill-defined and being set to 0.0 in labels with no predicted samples. Use `zero_division` parameter to control this behavior.\n",
      "  _warn_prf(average, modifier, f\"{metric.capitalize()} is\", len(result))\n",
      "c:\\Users\\nnvuf\\AppData\\Local\\Programs\\Python\\Python310\\lib\\site-packages\\sklearn\\metrics\\_classification.py:1531: UndefinedMetricWarning: Precision is ill-defined and being set to 0.0 in labels with no predicted samples. Use `zero_division` parameter to control this behavior.\n",
      "  _warn_prf(average, modifier, f\"{metric.capitalize()} is\", len(result))\n",
      "c:\\Users\\nnvuf\\AppData\\Local\\Programs\\Python\\Python310\\lib\\site-packages\\sklearn\\metrics\\_classification.py:1531: UndefinedMetricWarning: Precision is ill-defined and being set to 0.0 in labels with no predicted samples. Use `zero_division` parameter to control this behavior.\n",
      "  _warn_prf(average, modifier, f\"{metric.capitalize()} is\", len(result))\n"
     ]
    },
    {
     "name": "stdout",
     "output_type": "stream",
     "text": [
      "Fold 1/5, Total Test Loss: 0.1177, Fold accuracy: 88.2322\n",
      "Fold 2/5:\n",
      "Epoch 1/10, Train Loss: 0.0101, Test Loss: 0.0091, Total Time: 00 hours, 00 minutes, 10 seconds\n",
      "Epoch 2/10, Train Loss: 0.0010, Test Loss: 0.0018, Total Time: 00 hours, 00 minutes, 10 seconds\n",
      "Epoch 3/10, Train Loss: 0.0004, Test Loss: 0.0003, Total Time: 00 hours, 00 minutes, 10 seconds\n",
      "Epoch 4/10, Train Loss: 0.0002, Test Loss: 0.0002, Total Time: 00 hours, 00 minutes, 10 seconds\n",
      "Epoch 5/10, Train Loss: 0.0001, Test Loss: 0.0002, Total Time: 00 hours, 00 minutes, 10 seconds\n",
      "Epoch 6/10, Train Loss: 0.0001, Test Loss: 0.0002, Total Time: 00 hours, 00 minutes, 10 seconds\n",
      "Epoch 7/10, Train Loss: 0.0001, Test Loss: 0.0001, Total Time: 00 hours, 00 minutes, 10 seconds\n",
      "Epoch 8/10, Train Loss: 0.0001, Test Loss: 0.0001, Total Time: 00 hours, 00 minutes, 10 seconds\n",
      "Epoch 9/10, Train Loss: 0.0000, Test Loss: 0.0001, Total Time: 00 hours, 00 minutes, 10 seconds\n",
      "Epoch 10/10, Train Loss: 0.0000, Test Loss: 0.0001, Total Time: 00 hours, 00 minutes, 10 seconds\n",
      "Fold 2/5, Total Test Loss: 0.1178, Fold accuracy: 99.9891\n",
      "Fold 3/5:\n",
      "Epoch 1/10, Train Loss: 0.0001, Test Loss: 0.0000, Total Time: 00 hours, 00 minutes, 10 seconds\n",
      "Epoch 2/10, Train Loss: 0.0000, Test Loss: 0.0000, Total Time: 00 hours, 00 minutes, 10 seconds\n",
      "Epoch 3/10, Train Loss: 0.0000, Test Loss: 0.0000, Total Time: 00 hours, 00 minutes, 10 seconds\n",
      "Epoch 4/10, Train Loss: 0.0000, Test Loss: 0.0000, Total Time: 00 hours, 00 minutes, 10 seconds\n",
      "Epoch 5/10, Train Loss: 0.0000, Test Loss: 0.0000, Total Time: 00 hours, 00 minutes, 10 seconds\n",
      "Epoch 6/10, Train Loss: 0.0000, Test Loss: 0.0000, Total Time: 00 hours, 00 minutes, 10 seconds\n",
      "Epoch 7/10, Train Loss: 0.0000, Test Loss: 0.0000, Total Time: 00 hours, 00 minutes, 10 seconds\n",
      "Epoch 8/10, Train Loss: 0.0000, Test Loss: 0.0000, Total Time: 00 hours, 00 minutes, 10 seconds\n",
      "Epoch 9/10, Train Loss: 0.0000, Test Loss: 0.0000, Total Time: 00 hours, 00 minutes, 10 seconds\n",
      "Epoch 10/10, Train Loss: 0.0000, Test Loss: 0.0000, Total Time: 00 hours, 00 minutes, 10 seconds\n",
      "Fold 3/5, Total Test Loss: 0.1178, Fold accuracy: 99.9994\n",
      "Fold 4/5:\n",
      "Epoch 1/10, Train Loss: 0.0000, Test Loss: 0.0000, Total Time: 00 hours, 00 minutes, 10 seconds\n",
      "Epoch 2/10, Train Loss: 0.0000, Test Loss: 0.0000, Total Time: 00 hours, 00 minutes, 12 seconds\n",
      "Epoch 3/10, Train Loss: 0.0000, Test Loss: 0.0000, Total Time: 00 hours, 00 minutes, 11 seconds\n",
      "Epoch 4/10, Train Loss: 0.0000, Test Loss: 0.0000, Total Time: 00 hours, 00 minutes, 10 seconds\n",
      "Epoch 5/10, Train Loss: 0.0000, Test Loss: 0.0000, Total Time: 00 hours, 00 minutes, 10 seconds\n",
      "Epoch 6/10, Train Loss: 0.0000, Test Loss: 0.0000, Total Time: 00 hours, 00 minutes, 10 seconds\n",
      "Epoch 7/10, Train Loss: 0.0000, Test Loss: 0.0000, Total Time: 00 hours, 00 minutes, 11 seconds\n",
      "Epoch 8/10, Train Loss: 0.0000, Test Loss: 0.0000, Total Time: 00 hours, 00 minutes, 10 seconds\n",
      "Epoch 9/10, Train Loss: 0.0000, Test Loss: 0.0000, Total Time: 00 hours, 00 minutes, 10 seconds\n",
      "Epoch 10/10, Train Loss: 0.0000, Test Loss: 0.0000, Total Time: 00 hours, 00 minutes, 10 seconds\n",
      "Fold 4/5, Total Test Loss: 0.1178, Fold accuracy: 99.9996\n",
      "Fold 5/5:\n",
      "Epoch 1/10, Train Loss: 0.0000, Test Loss: 0.0000, Total Time: 00 hours, 00 minutes, 10 seconds\n",
      "Epoch 2/10, Train Loss: 0.0000, Test Loss: 0.0000, Total Time: 00 hours, 00 minutes, 10 seconds\n",
      "Epoch 3/10, Train Loss: 0.0000, Test Loss: 0.0000, Total Time: 00 hours, 00 minutes, 11 seconds\n",
      "Epoch 4/10, Train Loss: 0.0000, Test Loss: 0.0000, Total Time: 00 hours, 00 minutes, 10 seconds\n",
      "Epoch 5/10, Train Loss: 0.0000, Test Loss: 0.0000, Total Time: 00 hours, 00 minutes, 10 seconds\n",
      "Epoch 6/10, Train Loss: 0.0000, Test Loss: 0.0000, Total Time: 00 hours, 00 minutes, 11 seconds\n",
      "Epoch 7/10, Train Loss: 0.0000, Test Loss: 0.0000, Total Time: 00 hours, 00 minutes, 11 seconds\n",
      "Epoch 8/10, Train Loss: 0.0000, Test Loss: 0.0000, Total Time: 00 hours, 00 minutes, 11 seconds\n",
      "Epoch 9/10, Train Loss: 0.0000, Test Loss: 0.0000, Total Time: 00 hours, 00 minutes, 11 seconds\n",
      "Epoch 10/10, Train Loss: 0.0000, Test Loss: 0.0000, Total Time: 00 hours, 00 minutes, 10 seconds\n",
      "Fold 5/5, Total Test Loss: 0.1178, Fold accuracy: 99.9997\n",
      "avg_loss:  0.023559632512873012\n",
      "model_scored: 0.0118, avg_accuracy: 98.8179\n",
      "Finished gi4e_detected_eyes dataset with ResNet\n",
      "----------------------\n",
      "Running gi4e_detected_eyes dataset with DenseNet\n",
      "device:  cuda\n",
      "Fold 1/5:\n",
      "Epoch 1/10, Train Loss: 0.1803, Test Loss: 0.8514, Total Time: 00 hours, 00 minutes, 15 seconds\n",
      "Epoch 2/10, Train Loss: 0.0388, Test Loss: 0.0676, Total Time: 00 hours, 00 minutes, 12 seconds\n",
      "Epoch 3/10, Train Loss: 0.0184, Test Loss: 0.0991, Total Time: 00 hours, 00 minutes, 12 seconds\n",
      "Epoch 4/10, Train Loss: 0.0155, Test Loss: 0.0385, Total Time: 00 hours, 00 minutes, 12 seconds\n",
      "Epoch 5/10, Train Loss: 0.0049, Test Loss: 0.0032, Total Time: 00 hours, 00 minutes, 12 seconds\n",
      "Epoch 6/10, Train Loss: 0.0037, Test Loss: 0.0170, Total Time: 00 hours, 00 minutes, 12 seconds\n",
      "Epoch 7/10, Train Loss: 0.0048, Test Loss: 0.0086, Total Time: 00 hours, 00 minutes, 12 seconds\n",
      "Epoch 8/10, Train Loss: 0.0070, Test Loss: 0.1152, Total Time: 00 hours, 00 minutes, 12 seconds\n",
      "Epoch 9/10, Train Loss: 0.0411, Test Loss: 0.4015, Total Time: 00 hours, 00 minutes, 12 seconds\n",
      "Epoch 10/10, Train Loss: 0.0648, Test Loss: 0.2928, Total Time: 00 hours, 00 minutes, 12 seconds\n"
     ]
    },
    {
     "name": "stderr",
     "output_type": "stream",
     "text": [
      "c:\\Users\\nnvuf\\AppData\\Local\\Programs\\Python\\Python310\\lib\\site-packages\\sklearn\\metrics\\_classification.py:1531: UndefinedMetricWarning: Precision is ill-defined and being set to 0.0 in labels with no predicted samples. Use `zero_division` parameter to control this behavior.\n",
      "  _warn_prf(average, modifier, f\"{metric.capitalize()} is\", len(result))\n",
      "c:\\Users\\nnvuf\\AppData\\Local\\Programs\\Python\\Python310\\lib\\site-packages\\sklearn\\metrics\\_classification.py:1531: UndefinedMetricWarning: Precision is ill-defined and being set to 0.0 in labels with no predicted samples. Use `zero_division` parameter to control this behavior.\n",
      "  _warn_prf(average, modifier, f\"{metric.capitalize()} is\", len(result))\n",
      "c:\\Users\\nnvuf\\AppData\\Local\\Programs\\Python\\Python310\\lib\\site-packages\\sklearn\\metrics\\_classification.py:1531: UndefinedMetricWarning: Precision is ill-defined and being set to 0.0 in labels with no predicted samples. Use `zero_division` parameter to control this behavior.\n",
      "  _warn_prf(average, modifier, f\"{metric.capitalize()} is\", len(result))\n"
     ]
    },
    {
     "name": "stdout",
     "output_type": "stream",
     "text": [
      "Fold 1/5, Total Test Loss: 0.2928, Fold accuracy: 70.7177\n",
      "Fold 2/5:\n",
      "Epoch 1/10, Train Loss: 0.0737, Test Loss: 0.7684, Total Time: 00 hours, 00 minutes, 12 seconds\n",
      "Epoch 2/10, Train Loss: 0.0350, Test Loss: 0.1306, Total Time: 00 hours, 00 minutes, 12 seconds\n",
      "Epoch 3/10, Train Loss: 0.0111, Test Loss: 0.0126, Total Time: 00 hours, 00 minutes, 12 seconds\n",
      "Epoch 4/10, Train Loss: 0.0016, Test Loss: 0.0008, Total Time: 00 hours, 00 minutes, 12 seconds\n",
      "Epoch 5/10, Train Loss: 0.0005, Test Loss: 0.0004, Total Time: 00 hours, 00 minutes, 12 seconds\n",
      "Epoch 6/10, Train Loss: 0.0003, Test Loss: 0.0003, Total Time: 00 hours, 00 minutes, 12 seconds\n",
      "Epoch 7/10, Train Loss: 0.0002, Test Loss: 0.0002, Total Time: 00 hours, 00 minutes, 12 seconds\n",
      "Epoch 8/10, Train Loss: 0.0002, Test Loss: 0.0002, Total Time: 00 hours, 00 minutes, 12 seconds\n",
      "Epoch 9/10, Train Loss: 0.0002, Test Loss: 0.0002, Total Time: 00 hours, 00 minutes, 12 seconds\n",
      "Epoch 10/10, Train Loss: 0.0002, Test Loss: 0.0001, Total Time: 00 hours, 00 minutes, 12 seconds\n",
      "Fold 2/5, Total Test Loss: 0.2930, Fold accuracy: 99.9851\n",
      "Fold 3/5:\n",
      "Epoch 1/10, Train Loss: 0.0002, Test Loss: 0.0000, Total Time: 00 hours, 00 minutes, 12 seconds\n",
      "Epoch 2/10, Train Loss: 0.0002, Test Loss: 0.0000, Total Time: 00 hours, 00 minutes, 12 seconds\n",
      "Epoch 3/10, Train Loss: 0.0001, Test Loss: 0.0000, Total Time: 00 hours, 00 minutes, 12 seconds\n",
      "Epoch 4/10, Train Loss: 0.0001, Test Loss: 0.0000, Total Time: 00 hours, 00 minutes, 12 seconds\n",
      "Epoch 5/10, Train Loss: 0.0001, Test Loss: 0.0000, Total Time: 00 hours, 00 minutes, 12 seconds\n",
      "Epoch 6/10, Train Loss: 0.0001, Test Loss: 0.0000, Total Time: 00 hours, 00 minutes, 12 seconds\n",
      "Epoch 7/10, Train Loss: 0.0001, Test Loss: 0.0000, Total Time: 00 hours, 00 minutes, 12 seconds\n",
      "Epoch 8/10, Train Loss: 0.0001, Test Loss: 0.0000, Total Time: 00 hours, 00 minutes, 12 seconds\n",
      "Epoch 9/10, Train Loss: 0.0001, Test Loss: 0.0000, Total Time: 00 hours, 00 minutes, 12 seconds\n",
      "Epoch 10/10, Train Loss: 0.0001, Test Loss: 0.0000, Total Time: 00 hours, 00 minutes, 12 seconds\n",
      "Fold 3/5, Total Test Loss: 0.2930, Fold accuracy: 99.9978\n",
      "Fold 4/5:\n",
      "Epoch 1/10, Train Loss: 0.0001, Test Loss: 0.0000, Total Time: 00 hours, 00 minutes, 12 seconds\n",
      "Epoch 2/10, Train Loss: 0.0001, Test Loss: 0.0000, Total Time: 00 hours, 00 minutes, 12 seconds\n",
      "Epoch 3/10, Train Loss: 0.0001, Test Loss: 0.0000, Total Time: 00 hours, 00 minutes, 12 seconds\n",
      "Epoch 4/10, Train Loss: 0.0001, Test Loss: 0.0000, Total Time: 00 hours, 00 minutes, 12 seconds\n",
      "Epoch 5/10, Train Loss: 0.0001, Test Loss: 0.0000, Total Time: 00 hours, 00 minutes, 12 seconds\n",
      "Epoch 6/10, Train Loss: 0.0001, Test Loss: 0.0000, Total Time: 00 hours, 00 minutes, 12 seconds\n",
      "Epoch 7/10, Train Loss: 0.0001, Test Loss: 0.0000, Total Time: 00 hours, 00 minutes, 12 seconds\n",
      "Epoch 8/10, Train Loss: 0.0001, Test Loss: 0.0000, Total Time: 00 hours, 00 minutes, 12 seconds\n",
      "Epoch 9/10, Train Loss: 0.0000, Test Loss: 0.0000, Total Time: 00 hours, 00 minutes, 12 seconds\n",
      "Epoch 10/10, Train Loss: 0.0001, Test Loss: 0.0000, Total Time: 00 hours, 00 minutes, 12 seconds\n",
      "Fold 4/5, Total Test Loss: 0.2930, Fold accuracy: 99.9987\n",
      "Fold 5/5:\n",
      "Epoch 1/10, Train Loss: 0.0000, Test Loss: 0.0000, Total Time: 00 hours, 00 minutes, 12 seconds\n",
      "Epoch 2/10, Train Loss: 0.0001, Test Loss: 0.0000, Total Time: 00 hours, 00 minutes, 12 seconds\n",
      "Epoch 3/10, Train Loss: 0.0000, Test Loss: 0.0000, Total Time: 00 hours, 00 minutes, 12 seconds\n",
      "Epoch 4/10, Train Loss: 0.0000, Test Loss: 0.0000, Total Time: 00 hours, 00 minutes, 12 seconds\n",
      "Epoch 5/10, Train Loss: 0.0000, Test Loss: 0.0000, Total Time: 00 hours, 00 minutes, 12 seconds\n",
      "Epoch 6/10, Train Loss: 0.0000, Test Loss: 0.0000, Total Time: 00 hours, 00 minutes, 12 seconds\n",
      "Epoch 7/10, Train Loss: 0.0000, Test Loss: 0.0000, Total Time: 00 hours, 00 minutes, 12 seconds\n",
      "Epoch 8/10, Train Loss: 0.0000, Test Loss: 0.0000, Total Time: 00 hours, 00 minutes, 12 seconds\n",
      "Epoch 9/10, Train Loss: 0.0000, Test Loss: 0.0000, Total Time: 00 hours, 00 minutes, 12 seconds\n",
      "Epoch 10/10, Train Loss: 0.0000, Test Loss: 0.0000, Total Time: 00 hours, 00 minutes, 12 seconds\n",
      "Fold 5/5, Total Test Loss: 0.2930, Fold accuracy: 99.9992\n",
      "avg_loss:  0.05860318166859598\n",
      "model_scored: 0.0318, avg_accuracy: 96.8218\n",
      "Finished gi4e_detected_eyes dataset with DenseNet\n",
      "----------------------\n",
      "Running gi4e_detected_eyes dataset with VGG\n",
      "device:  cuda\n",
      "Fold 1/5:\n",
      "Epoch 1/10, Train Loss: 0.3043, Test Loss: 0.0500, Total Time: 00 hours, 00 minutes, 23 seconds\n",
      "Epoch 2/10, Train Loss: 0.0968, Test Loss: 0.1060, Total Time: 00 hours, 00 minutes, 17 seconds\n",
      "Epoch 3/10, Train Loss: 0.0642, Test Loss: 0.0381, Total Time: 00 hours, 00 minutes, 17 seconds\n",
      "Epoch 4/10, Train Loss: 0.0953, Test Loss: 0.1314, Total Time: 00 hours, 00 minutes, 17 seconds\n",
      "Epoch 5/10, Train Loss: 0.2291, Test Loss: 0.1068, Total Time: 00 hours, 00 minutes, 17 seconds\n",
      "Epoch 6/10, Train Loss: 0.1703, Test Loss: 0.0337, Total Time: 00 hours, 00 minutes, 17 seconds\n",
      "Epoch 7/10, Train Loss: 0.0644, Test Loss: 0.0803, Total Time: 00 hours, 00 minutes, 17 seconds\n",
      "Epoch 8/10, Train Loss: 0.0699, Test Loss: 0.0395, Total Time: 00 hours, 00 minutes, 17 seconds\n",
      "Epoch 9/10, Train Loss: 0.0316, Test Loss: 0.0748, Total Time: 00 hours, 00 minutes, 17 seconds\n",
      "Epoch 10/10, Train Loss: 0.0332, Test Loss: 0.0410, Total Time: 00 hours, 00 minutes, 17 seconds\n",
      "Fold 1/5, Total Test Loss: 0.0410, Fold accuracy: 95.8974\n",
      "Fold 2/5:\n",
      "Epoch 1/10, Train Loss: 0.0623, Test Loss: 0.0155, Total Time: 00 hours, 00 minutes, 17 seconds\n",
      "Epoch 2/10, Train Loss: 0.0961, Test Loss: 0.0340, Total Time: 00 hours, 00 minutes, 17 seconds\n",
      "Epoch 3/10, Train Loss: 0.0879, Test Loss: 0.0087, Total Time: 00 hours, 00 minutes, 17 seconds\n",
      "Epoch 4/10, Train Loss: 0.1102, Test Loss: 0.0150, Total Time: 00 hours, 00 minutes, 17 seconds\n",
      "Epoch 5/10, Train Loss: 0.0991, Test Loss: 0.0172, Total Time: 00 hours, 00 minutes, 17 seconds\n",
      "Epoch 6/10, Train Loss: 0.1103, Test Loss: 0.0157, Total Time: 00 hours, 00 minutes, 17 seconds\n",
      "Epoch 7/10, Train Loss: 0.1257, Test Loss: 0.0294, Total Time: 00 hours, 00 minutes, 17 seconds\n",
      "Epoch 8/10, Train Loss: 0.0606, Test Loss: 0.0302, Total Time: 00 hours, 00 minutes, 17 seconds\n",
      "Epoch 9/10, Train Loss: 0.1217, Test Loss: 0.0360, Total Time: 00 hours, 00 minutes, 17 seconds\n",
      "Epoch 10/10, Train Loss: 0.0745, Test Loss: 0.0446, Total Time: 00 hours, 00 minutes, 17 seconds\n"
     ]
    },
    {
     "name": "stderr",
     "output_type": "stream",
     "text": [
      "c:\\Users\\nnvuf\\AppData\\Local\\Programs\\Python\\Python310\\lib\\site-packages\\sklearn\\metrics\\_classification.py:1531: UndefinedMetricWarning: Recall is ill-defined and being set to 0.0 in labels with no true samples. Use `zero_division` parameter to control this behavior.\n",
      "  _warn_prf(average, modifier, f\"{metric.capitalize()} is\", len(result))\n",
      "c:\\Users\\nnvuf\\AppData\\Local\\Programs\\Python\\Python310\\lib\\site-packages\\sklearn\\metrics\\_classification.py:1531: UndefinedMetricWarning: Recall is ill-defined and being set to 0.0 in labels with no true samples. Use `zero_division` parameter to control this behavior.\n",
      "  _warn_prf(average, modifier, f\"{metric.capitalize()} is\", len(result))\n",
      "c:\\Users\\nnvuf\\AppData\\Local\\Programs\\Python\\Python310\\lib\\site-packages\\sklearn\\metrics\\_classification.py:1531: UndefinedMetricWarning: Recall is ill-defined and being set to 0.0 in labels with no true samples. Use `zero_division` parameter to control this behavior.\n",
      "  _warn_prf(average, modifier, f\"{metric.capitalize()} is\", len(result))\n"
     ]
    },
    {
     "name": "stdout",
     "output_type": "stream",
     "text": [
      "Fold 2/5, Total Test Loss: 0.0856, Fold accuracy: 95.5430\n",
      "Fold 3/5:\n",
      "Epoch 1/10, Train Loss: 0.0919, Test Loss: 0.0202, Total Time: 00 hours, 00 minutes, 17 seconds\n",
      "Epoch 2/10, Train Loss: 0.1091, Test Loss: 0.0242, Total Time: 00 hours, 00 minutes, 17 seconds\n",
      "Epoch 3/10, Train Loss: 0.1111, Test Loss: 0.0253, Total Time: 00 hours, 00 minutes, 17 seconds\n",
      "Epoch 4/10, Train Loss: 0.0639, Test Loss: 0.0094, Total Time: 00 hours, 00 minutes, 17 seconds\n",
      "Epoch 5/10, Train Loss: 0.0420, Test Loss: 0.0123, Total Time: 00 hours, 00 minutes, 17 seconds\n",
      "Epoch 6/10, Train Loss: 0.0563, Test Loss: 0.0072, Total Time: 00 hours, 00 minutes, 17 seconds\n",
      "Epoch 7/10, Train Loss: 0.0826, Test Loss: 0.0235, Total Time: 00 hours, 00 minutes, 17 seconds\n",
      "Epoch 8/10, Train Loss: 0.0370, Test Loss: 0.0139, Total Time: 00 hours, 00 minutes, 17 seconds\n",
      "Epoch 9/10, Train Loss: 0.0756, Test Loss: 0.0360, Total Time: 00 hours, 00 minutes, 17 seconds\n",
      "Epoch 10/10, Train Loss: 0.0572, Test Loss: 0.0293, Total Time: 00 hours, 00 minutes, 17 seconds\n",
      "Fold 3/5, Total Test Loss: 0.1149, Fold accuracy: 97.0719\n",
      "Fold 4/5:\n",
      "Epoch 1/10, Train Loss: 0.0462, Test Loss: 0.0182, Total Time: 00 hours, 00 minutes, 17 seconds\n",
      "Epoch 2/10, Train Loss: 0.0541, Test Loss: 0.0020, Total Time: 00 hours, 00 minutes, 17 seconds\n",
      "Epoch 3/10, Train Loss: 0.0375, Test Loss: 0.0018, Total Time: 00 hours, 00 minutes, 17 seconds\n",
      "Epoch 4/10, Train Loss: 0.0119, Test Loss: 0.0004, Total Time: 00 hours, 00 minutes, 17 seconds\n",
      "Epoch 5/10, Train Loss: 0.0323, Test Loss: 0.0110, Total Time: 00 hours, 00 minutes, 17 seconds\n",
      "Epoch 6/10, Train Loss: 0.0473, Test Loss: 0.0102, Total Time: 00 hours, 00 minutes, 17 seconds\n",
      "Epoch 7/10, Train Loss: 0.0464, Test Loss: 0.0158, Total Time: 00 hours, 00 minutes, 17 seconds\n",
      "Epoch 8/10, Train Loss: 0.0729, Test Loss: 0.0338, Total Time: 00 hours, 00 minutes, 17 seconds\n",
      "Epoch 9/10, Train Loss: 0.0978, Test Loss: 0.0202, Total Time: 00 hours, 00 minutes, 17 seconds\n",
      "Epoch 10/10, Train Loss: 0.1314, Test Loss: 0.1143, Total Time: 00 hours, 00 minutes, 17 seconds\n",
      "Fold 4/5, Total Test Loss: 0.2292, Fold accuracy: 88.5724\n",
      "Fold 5/5:\n",
      "Epoch 1/10, Train Loss: 0.0596, Test Loss: 0.0280, Total Time: 00 hours, 00 minutes, 17 seconds\n",
      "Epoch 2/10, Train Loss: 0.0604, Test Loss: 0.0064, Total Time: 00 hours, 00 minutes, 17 seconds\n",
      "Epoch 3/10, Train Loss: 0.0686, Test Loss: 0.0128, Total Time: 00 hours, 00 minutes, 17 seconds\n",
      "Epoch 4/10, Train Loss: 0.0383, Test Loss: 0.0047, Total Time: 00 hours, 00 minutes, 17 seconds\n",
      "Epoch 5/10, Train Loss: 0.0918, Test Loss: 0.0566, Total Time: 00 hours, 00 minutes, 17 seconds\n",
      "Epoch 6/10, Train Loss: 0.1293, Test Loss: 0.0080, Total Time: 00 hours, 00 minutes, 17 seconds\n",
      "Epoch 7/10, Train Loss: 0.0400, Test Loss: 0.0047, Total Time: 00 hours, 00 minutes, 17 seconds\n",
      "Epoch 8/10, Train Loss: 0.0129, Test Loss: 0.0081, Total Time: 00 hours, 00 minutes, 17 seconds\n",
      "Epoch 9/10, Train Loss: 0.0302, Test Loss: 0.0429, Total Time: 00 hours, 00 minutes, 17 seconds\n",
      "Epoch 10/10, Train Loss: 0.0561, Test Loss: 0.0634, Total Time: 00 hours, 00 minutes, 17 seconds\n"
     ]
    },
    {
     "name": "stderr",
     "output_type": "stream",
     "text": [
      "c:\\Users\\nnvuf\\AppData\\Local\\Programs\\Python\\Python310\\lib\\site-packages\\sklearn\\metrics\\_classification.py:1531: UndefinedMetricWarning: Precision is ill-defined and being set to 0.0 in labels with no predicted samples. Use `zero_division` parameter to control this behavior.\n",
      "  _warn_prf(average, modifier, f\"{metric.capitalize()} is\", len(result))\n",
      "c:\\Users\\nnvuf\\AppData\\Local\\Programs\\Python\\Python310\\lib\\site-packages\\sklearn\\metrics\\_classification.py:1531: UndefinedMetricWarning: Precision is ill-defined and being set to 0.0 in labels with no predicted samples. Use `zero_division` parameter to control this behavior.\n",
      "  _warn_prf(average, modifier, f\"{metric.capitalize()} is\", len(result))\n",
      "c:\\Users\\nnvuf\\AppData\\Local\\Programs\\Python\\Python310\\lib\\site-packages\\sklearn\\metrics\\_classification.py:1531: UndefinedMetricWarning: Precision is ill-defined and being set to 0.0 in labels with no predicted samples. Use `zero_division` parameter to control this behavior.\n",
      "  _warn_prf(average, modifier, f\"{metric.capitalize()} is\", len(result))\n"
     ]
    },
    {
     "name": "stdout",
     "output_type": "stream",
     "text": [
      "Fold 5/5, Total Test Loss: 0.2926, Fold accuracy: 93.6570\n",
      "avg_loss:  0.058516472305713677\n",
      "model_scored: 0.2665, avg_accuracy: 73.3485\n",
      "Finished gi4e_detected_eyes dataset with VGG\n",
      "----------------------\n",
      "Finished all datasets\n",
      "              dataset     model  avg_loss  avg_accuracy   total_time\n",
      "0           gi4e_full    ResNet  0.000215      0.000002   962.041694\n",
      "1           gi4e_full  DenseNet  0.000198      0.000030  1046.056977\n",
      "2           gi4e_full       VGG  0.091103      0.083772  1207.610080\n",
      "3       gi4e_raw_eyes    ResNet  0.147899      0.135539   540.670171\n",
      "4       gi4e_raw_eyes  DenseNet  0.006350      0.031950   590.097127\n",
      "5       gi4e_raw_eyes       VGG  0.535764      0.562497   932.827783\n",
      "6  gi4e_detected_eyes    ResNet  0.023560      0.011821   560.538603\n",
      "7  gi4e_detected_eyes  DenseNet  0.058603      0.031782   630.374697\n",
      "8  gi4e_detected_eyes       VGG  0.058516      0.266515   962.397992\n"
     ]
    }
   ],
   "source": [
    "result_df = pd.DataFrame(columns=['dataset', 'model', 'avg_loss', 'avg_accuracy', 'total_time'])\n",
    "\n",
    "for name, dataset in datasets.items():\n",
    "\tfor model in models:\n",
    "\t\tprint(f'Running {name} dataset with {model.__class__.__name__}')\n",
    "\t\t# do the train\n",
    "\t\tstart_time = time.time()\n",
    "\t\tscored, loss = train_process(dataset, model)\n",
    "\t\tend_time = time.time()\n",
    "\t\ttotal_time = end_time - start_time\n",
    "\t\tprint(f'Finished {name} dataset with {model.__class__.__name__}')\n",
    "\t\tprint('----------------------')\n",
    "\n",
    "\t\t# save the result\n",
    "\t\tresult_df = pd.concat([result_df, pd.DataFrame({\n",
    "\t\t\t'model': [model.__class__.__name__],\n",
    "\t\t\t'dataset': [name],\n",
    "\t\t\t'avg_loss': [loss],\n",
    "\t\t\t'avg_accuracy': [scored],\n",
    "\t\t\t'total_time': [total_time]\n",
    "\t\t})], ignore_index=True)\n",
    "\n",
    "print('Finished all datasets')\n",
    "\n",
    "# print the result\n",
    "print(result_df)\n"
   ]
  },
  {
   "cell_type": "markdown",
   "id": "1d796772",
   "metadata": {},
   "source": [
    "4. print the result"
   ]
  },
  {
   "cell_type": "code",
   "execution_count": 9,
   "id": "0fca714b",
   "metadata": {},
   "outputs": [
    {
     "name": "stdout",
     "output_type": "stream",
     "text": [
      "              dataset     model  avg_loss  avg_accuracy  \\\n",
      "0           gi4e_full    ResNet  0.000215     99.999779   \n",
      "1           gi4e_full  DenseNet  0.000198     99.996984   \n",
      "2           gi4e_full       VGG  0.091103     91.622755   \n",
      "3       gi4e_raw_eyes    ResNet  0.147899     86.446137   \n",
      "4       gi4e_raw_eyes  DenseNet  0.006350     96.805048   \n",
      "5       gi4e_raw_eyes       VGG  0.535764     43.750337   \n",
      "6  gi4e_detected_eyes    ResNet  0.023560     98.817859   \n",
      "7  gi4e_detected_eyes  DenseNet  0.058603     96.821776   \n",
      "8  gi4e_detected_eyes       VGG  0.058516     73.348478   \n",
      "\n",
      "                 total_time  \n",
      "0 0 days 00:16:02.041694403  \n",
      "1 0 days 00:17:26.056977272  \n",
      "2 0 days 00:20:07.610080004  \n",
      "3 0 days 00:09:00.670171022  \n",
      "4 0 days 00:09:50.097127438  \n",
      "5 0 days 00:15:32.827783108  \n",
      "6 0 days 00:09:20.538602591  \n",
      "7 0 days 00:10:30.374696732  \n",
      "8 0 days 00:16:02.397992134  \n"
     ]
    }
   ],
   "source": [
    "# swap the first two columns\n",
    "result_df = result_df[['dataset', 'model', 'avg_loss', 'avg_accuracy', 'total_time']]\n",
    "# scale the avg_accuracy to 0-100\n",
    "result_df['avg_accuracy'] = 100 * (1 - result_df['avg_accuracy'])\n",
    "# display the total time in the format HH:MM:SS\n",
    "result_df['total_time'] = pd.to_timedelta(result_df['total_time'], unit='s')\n",
    "\n",
    "# save the result to csv\n",
    "result_df.to_csv(f'results_{time_str}.csv', index=False)\n",
    "# print the result\n",
    "print(result_df)\n"
   ]
  },
  {
   "cell_type": "code",
   "execution_count": 10,
   "id": "e6d9c510",
   "metadata": {},
   "outputs": [
    {
     "name": "stdout",
     "output_type": "stream",
     "text": [
      "              dataset     model  avg_loss  avg_accuracy  \\\n",
      "0           gi4e_full    ResNet  0.000215     99.999779   \n",
      "1           gi4e_full  DenseNet  0.000198     99.996984   \n",
      "2           gi4e_full       VGG  0.091103     91.622755   \n",
      "3       gi4e_raw_eyes    ResNet  0.147899     86.446137   \n",
      "4       gi4e_raw_eyes  DenseNet  0.006350     96.805048   \n",
      "5       gi4e_raw_eyes       VGG  0.535764     43.750337   \n",
      "6  gi4e_detected_eyes    ResNet  0.023560     98.817859   \n",
      "7  gi4e_detected_eyes  DenseNet  0.058603     96.821776   \n",
      "8  gi4e_detected_eyes       VGG  0.058516     73.348478   \n",
      "\n",
      "                 total_time  \n",
      "0 0 days 00:16:02.041694403  \n",
      "1 0 days 00:17:26.056977272  \n",
      "2 0 days 00:20:07.610080004  \n",
      "3 0 days 00:09:00.670171022  \n",
      "4 0 days 00:09:50.097127438  \n",
      "5 0 days 00:15:32.827783108  \n",
      "6 0 days 00:09:20.538602591  \n",
      "7 0 days 00:10:30.374696732  \n",
      "8 0 days 00:16:02.397992134  \n"
     ]
    }
   ],
   "source": [
    "print(result_df)"
   ]
  },
  {
   "cell_type": "markdown",
   "id": "a18e46b4",
   "metadata": {},
   "source": [
    "# Embedded Classification"
   ]
  },
  {
   "cell_type": "markdown",
   "id": "542a6be8",
   "metadata": {},
   "source": [
    "- Define the model"
   ]
  },
  {
   "cell_type": "code",
   "execution_count": 11,
   "id": "433d460f",
   "metadata": {},
   "outputs": [],
   "source": [
    "embedded_models = [md.FeatureExtractor(model) for model in models]\n",
    "classifier_models = [md.Classifier(model, 103) for model in embedded_models]\n"
   ]
  },
  {
   "cell_type": "markdown",
   "id": "c655b5fd",
   "metadata": {},
   "source": [
    "- Load the trained weight to the model"
   ]
  },
  {
   "cell_type": "code",
   "execution_count": 12,
   "id": "eb8f4f86",
   "metadata": {},
   "outputs": [],
   "source": [
    "# ignore"
   ]
  },
  {
   "cell_type": "markdown",
   "id": "d478d76c",
   "metadata": {},
   "source": [
    "- Transform the dataset to the embedded data"
   ]
  },
  {
   "cell_type": "code",
   "execution_count": 13,
   "id": "3fa59dce",
   "metadata": {},
   "outputs": [
    {
     "name": "stdout",
     "output_type": "stream",
     "text": [
      "Getting features for gi4e_full dataset with FeatureExtractor(ResNet)\n"
     ]
    },
    {
     "name": "stderr",
     "output_type": "stream",
     "text": [
      "<All keys matched successfully>\n"
     ]
    },
    {
     "ename": "RuntimeError",
     "evalue": "Input type (torch.FloatTensor) and weight type (torch.cuda.FloatTensor) should be the same or input should be a MKLDNN tensor and weight is a dense tensor",
     "output_type": "error",
     "traceback": [
      "\u001b[1;31m---------------------------------------------------------------------------\u001b[0m",
      "\u001b[1;31mRuntimeError\u001b[0m                              Traceback (most recent call last)",
      "Cell \u001b[1;32mIn[13], line 13\u001b[0m\n\u001b[0;32m     10\u001b[0m \t\u001b[38;5;28mprint\u001b[39m(\u001b[38;5;124mf\u001b[39m\u001b[38;5;124m'\u001b[39m\u001b[38;5;124mClassifier model not found for \u001b[39m\u001b[38;5;132;01m{\u001b[39;00mmodel\u001b[38;5;241m.\u001b[39m_get_name()\u001b[38;5;132;01m}\u001b[39;00m\u001b[38;5;124m'\u001b[39m)\n\u001b[0;32m     11\u001b[0m \t\u001b[38;5;28;01mcontinue\u001b[39;00m\n\u001b[1;32m---> 13\u001b[0m model_dataset \u001b[38;5;241m=\u001b[39m \u001b[43mds\u001b[49m\u001b[38;5;241;43m.\u001b[39;49m\u001b[43mEmbeddedDataset\u001b[49m\u001b[43m(\u001b[49m\u001b[43mdataset\u001b[49m\u001b[43m,\u001b[49m\u001b[43m \u001b[49m\u001b[43mmodel\u001b[49m\u001b[43m)\u001b[49m\n\u001b[0;32m     15\u001b[0m classifier_df \u001b[38;5;241m=\u001b[39m pd\u001b[38;5;241m.\u001b[39mconcat([classifier_df, pd\u001b[38;5;241m.\u001b[39mDataFrame({\n\u001b[0;32m     16\u001b[0m \t\t\u001b[38;5;124m'\u001b[39m\u001b[38;5;124mkey\u001b[39m\u001b[38;5;124m'\u001b[39m: [\u001b[38;5;124mf\u001b[39m\u001b[38;5;124m'\u001b[39m\u001b[38;5;132;01m{\u001b[39;00mname\u001b[38;5;132;01m}\u001b[39;00m\u001b[38;5;124m_\u001b[39m\u001b[38;5;132;01m{\u001b[39;00mmodel\u001b[38;5;241m.\u001b[39m_get_name()\u001b[38;5;132;01m}\u001b[39;00m\u001b[38;5;124m'\u001b[39m],\n\u001b[0;32m     17\u001b[0m \t\t\u001b[38;5;124m'\u001b[39m\u001b[38;5;124mmodel\u001b[39m\u001b[38;5;124m'\u001b[39m: [classifier_model],\n\u001b[0;32m     18\u001b[0m \t\t\u001b[38;5;124m'\u001b[39m\u001b[38;5;124mdataset\u001b[39m\u001b[38;5;124m'\u001b[39m: [model_dataset]\n\u001b[0;32m     19\u001b[0m })], ignore_index\u001b[38;5;241m=\u001b[39m\u001b[38;5;28;01mTrue\u001b[39;00m)\n\u001b[0;32m     21\u001b[0m \u001b[38;5;28mprint\u001b[39m(\u001b[38;5;124mf\u001b[39m\u001b[38;5;124m'\u001b[39m\u001b[38;5;124mFinished getting features for \u001b[39m\u001b[38;5;132;01m{\u001b[39;00mname\u001b[38;5;132;01m}\u001b[39;00m\u001b[38;5;124m dataset with \u001b[39m\u001b[38;5;132;01m{\u001b[39;00mmodel\u001b[38;5;241m.\u001b[39m_get_name()\u001b[38;5;132;01m}\u001b[39;00m\u001b[38;5;124m'\u001b[39m)\n",
      "File \u001b[1;32md:\\Workspace\\thesis_sources\\dataset.py:538\u001b[0m, in \u001b[0;36mEmbeddedDataset.__init__\u001b[1;34m(self, dataset, model)\u001b[0m\n\u001b[0;32m    536\u001b[0m \u001b[38;5;28mself\u001b[39m\u001b[38;5;241m.\u001b[39mcompute_labels()\n\u001b[0;32m    537\u001b[0m \u001b[38;5;66;03m# Precompute embeddings for the entire dataset\u001b[39;00m\n\u001b[1;32m--> 538\u001b[0m \u001b[38;5;28;43mself\u001b[39;49m\u001b[38;5;241;43m.\u001b[39;49m\u001b[43mcompute_embeddings\u001b[49m\u001b[43m(\u001b[49m\u001b[43m)\u001b[49m\n",
      "File \u001b[1;32md:\\Workspace\\thesis_sources\\dataset.py:547\u001b[0m, in \u001b[0;36mEmbeddedDataset.compute_embeddings\u001b[1;34m(self)\u001b[0m\n\u001b[0;32m    544\u001b[0m image, target \u001b[38;5;241m=\u001b[39m \u001b[38;5;28mself\u001b[39m\u001b[38;5;241m.\u001b[39mdataset[i]\n\u001b[0;32m    546\u001b[0m \u001b[38;5;66;03m# embed the image using the model\u001b[39;00m\n\u001b[1;32m--> 547\u001b[0m embedding \u001b[38;5;241m=\u001b[39m \u001b[38;5;28;43mself\u001b[39;49m\u001b[38;5;241;43m.\u001b[39;49m\u001b[43mmodel\u001b[49m\u001b[38;5;241;43m.\u001b[39;49m\u001b[43mforward\u001b[49m\u001b[43m(\u001b[49m\u001b[43mimage\u001b[49m\u001b[38;5;241;43m.\u001b[39;49m\u001b[43munsqueeze\u001b[49m\u001b[43m(\u001b[49m\u001b[38;5;241;43m0\u001b[39;49m\u001b[43m)\u001b[49m\u001b[43m)\u001b[49m  \u001b[38;5;66;03m# Add batch dimension\u001b[39;00m\n\u001b[0;32m    548\u001b[0m embedding \u001b[38;5;241m=\u001b[39m embedding\u001b[38;5;241m.\u001b[39msqueeze()\n\u001b[0;32m    549\u001b[0m \u001b[38;5;66;03m# get embeded label using the nomic model\u001b[39;00m\n",
      "File \u001b[1;32md:\\Workspace\\thesis_sources\\model.py:38\u001b[0m, in \u001b[0;36mFeatureExtractor.forward\u001b[1;34m(self, x)\u001b[0m\n\u001b[0;32m     37\u001b[0m \u001b[38;5;28;01mdef\u001b[39;00m\u001b[38;5;250m \u001b[39m\u001b[38;5;21mforward\u001b[39m(\u001b[38;5;28mself\u001b[39m, x: torch\u001b[38;5;241m.\u001b[39mTensor) \u001b[38;5;241m-\u001b[39m\u001b[38;5;241m>\u001b[39m torch\u001b[38;5;241m.\u001b[39mTensor:\n\u001b[1;32m---> 38\u001b[0m   x \u001b[38;5;241m=\u001b[39m \u001b[38;5;28;43mself\u001b[39;49m\u001b[38;5;241;43m.\u001b[39;49m\u001b[43mfeatures\u001b[49m\u001b[43m(\u001b[49m\u001b[43mx\u001b[49m\u001b[43m)\u001b[49m\n\u001b[0;32m     39\u001b[0m   \u001b[38;5;66;03m# Return the feature vector\u001b[39;00m\n\u001b[0;32m     40\u001b[0m   \u001b[38;5;28;01mreturn\u001b[39;00m x\n",
      "File \u001b[1;32mc:\\Users\\nnvuf\\AppData\\Local\\Programs\\Python\\Python310\\lib\\site-packages\\torch\\nn\\modules\\module.py:1736\u001b[0m, in \u001b[0;36mModule._wrapped_call_impl\u001b[1;34m(self, *args, **kwargs)\u001b[0m\n\u001b[0;32m   1734\u001b[0m     \u001b[38;5;28;01mreturn\u001b[39;00m \u001b[38;5;28mself\u001b[39m\u001b[38;5;241m.\u001b[39m_compiled_call_impl(\u001b[38;5;241m*\u001b[39margs, \u001b[38;5;241m*\u001b[39m\u001b[38;5;241m*\u001b[39mkwargs)  \u001b[38;5;66;03m# type: ignore[misc]\u001b[39;00m\n\u001b[0;32m   1735\u001b[0m \u001b[38;5;28;01melse\u001b[39;00m:\n\u001b[1;32m-> 1736\u001b[0m     \u001b[38;5;28;01mreturn\u001b[39;00m \u001b[38;5;28mself\u001b[39m\u001b[38;5;241m.\u001b[39m_call_impl(\u001b[38;5;241m*\u001b[39margs, \u001b[38;5;241m*\u001b[39m\u001b[38;5;241m*\u001b[39mkwargs)\n",
      "File \u001b[1;32mc:\\Users\\nnvuf\\AppData\\Local\\Programs\\Python\\Python310\\lib\\site-packages\\torch\\nn\\modules\\module.py:1747\u001b[0m, in \u001b[0;36mModule._call_impl\u001b[1;34m(self, *args, **kwargs)\u001b[0m\n\u001b[0;32m   1742\u001b[0m \u001b[38;5;66;03m# If we don't have any hooks, we want to skip the rest of the logic in\u001b[39;00m\n\u001b[0;32m   1743\u001b[0m \u001b[38;5;66;03m# this function, and just call forward.\u001b[39;00m\n\u001b[0;32m   1744\u001b[0m \u001b[38;5;28;01mif\u001b[39;00m \u001b[38;5;129;01mnot\u001b[39;00m (\u001b[38;5;28mself\u001b[39m\u001b[38;5;241m.\u001b[39m_backward_hooks \u001b[38;5;129;01mor\u001b[39;00m \u001b[38;5;28mself\u001b[39m\u001b[38;5;241m.\u001b[39m_backward_pre_hooks \u001b[38;5;129;01mor\u001b[39;00m \u001b[38;5;28mself\u001b[39m\u001b[38;5;241m.\u001b[39m_forward_hooks \u001b[38;5;129;01mor\u001b[39;00m \u001b[38;5;28mself\u001b[39m\u001b[38;5;241m.\u001b[39m_forward_pre_hooks\n\u001b[0;32m   1745\u001b[0m         \u001b[38;5;129;01mor\u001b[39;00m _global_backward_pre_hooks \u001b[38;5;129;01mor\u001b[39;00m _global_backward_hooks\n\u001b[0;32m   1746\u001b[0m         \u001b[38;5;129;01mor\u001b[39;00m _global_forward_hooks \u001b[38;5;129;01mor\u001b[39;00m _global_forward_pre_hooks):\n\u001b[1;32m-> 1747\u001b[0m     \u001b[38;5;28;01mreturn\u001b[39;00m forward_call(\u001b[38;5;241m*\u001b[39margs, \u001b[38;5;241m*\u001b[39m\u001b[38;5;241m*\u001b[39mkwargs)\n\u001b[0;32m   1749\u001b[0m result \u001b[38;5;241m=\u001b[39m \u001b[38;5;28;01mNone\u001b[39;00m\n\u001b[0;32m   1750\u001b[0m called_always_called_hooks \u001b[38;5;241m=\u001b[39m \u001b[38;5;28mset\u001b[39m()\n",
      "File \u001b[1;32mc:\\Users\\nnvuf\\AppData\\Local\\Programs\\Python\\Python310\\lib\\site-packages\\torch\\nn\\modules\\container.py:250\u001b[0m, in \u001b[0;36mSequential.forward\u001b[1;34m(self, input)\u001b[0m\n\u001b[0;32m    248\u001b[0m \u001b[38;5;28;01mdef\u001b[39;00m\u001b[38;5;250m \u001b[39m\u001b[38;5;21mforward\u001b[39m(\u001b[38;5;28mself\u001b[39m, \u001b[38;5;28minput\u001b[39m):\n\u001b[0;32m    249\u001b[0m     \u001b[38;5;28;01mfor\u001b[39;00m module \u001b[38;5;129;01min\u001b[39;00m \u001b[38;5;28mself\u001b[39m:\n\u001b[1;32m--> 250\u001b[0m         \u001b[38;5;28minput\u001b[39m \u001b[38;5;241m=\u001b[39m \u001b[43mmodule\u001b[49m\u001b[43m(\u001b[49m\u001b[38;5;28;43minput\u001b[39;49m\u001b[43m)\u001b[49m\n\u001b[0;32m    251\u001b[0m     \u001b[38;5;28;01mreturn\u001b[39;00m \u001b[38;5;28minput\u001b[39m\n",
      "File \u001b[1;32mc:\\Users\\nnvuf\\AppData\\Local\\Programs\\Python\\Python310\\lib\\site-packages\\torch\\nn\\modules\\module.py:1736\u001b[0m, in \u001b[0;36mModule._wrapped_call_impl\u001b[1;34m(self, *args, **kwargs)\u001b[0m\n\u001b[0;32m   1734\u001b[0m     \u001b[38;5;28;01mreturn\u001b[39;00m \u001b[38;5;28mself\u001b[39m\u001b[38;5;241m.\u001b[39m_compiled_call_impl(\u001b[38;5;241m*\u001b[39margs, \u001b[38;5;241m*\u001b[39m\u001b[38;5;241m*\u001b[39mkwargs)  \u001b[38;5;66;03m# type: ignore[misc]\u001b[39;00m\n\u001b[0;32m   1735\u001b[0m \u001b[38;5;28;01melse\u001b[39;00m:\n\u001b[1;32m-> 1736\u001b[0m     \u001b[38;5;28;01mreturn\u001b[39;00m \u001b[38;5;28mself\u001b[39m\u001b[38;5;241m.\u001b[39m_call_impl(\u001b[38;5;241m*\u001b[39margs, \u001b[38;5;241m*\u001b[39m\u001b[38;5;241m*\u001b[39mkwargs)\n",
      "File \u001b[1;32mc:\\Users\\nnvuf\\AppData\\Local\\Programs\\Python\\Python310\\lib\\site-packages\\torch\\nn\\modules\\module.py:1747\u001b[0m, in \u001b[0;36mModule._call_impl\u001b[1;34m(self, *args, **kwargs)\u001b[0m\n\u001b[0;32m   1742\u001b[0m \u001b[38;5;66;03m# If we don't have any hooks, we want to skip the rest of the logic in\u001b[39;00m\n\u001b[0;32m   1743\u001b[0m \u001b[38;5;66;03m# this function, and just call forward.\u001b[39;00m\n\u001b[0;32m   1744\u001b[0m \u001b[38;5;28;01mif\u001b[39;00m \u001b[38;5;129;01mnot\u001b[39;00m (\u001b[38;5;28mself\u001b[39m\u001b[38;5;241m.\u001b[39m_backward_hooks \u001b[38;5;129;01mor\u001b[39;00m \u001b[38;5;28mself\u001b[39m\u001b[38;5;241m.\u001b[39m_backward_pre_hooks \u001b[38;5;129;01mor\u001b[39;00m \u001b[38;5;28mself\u001b[39m\u001b[38;5;241m.\u001b[39m_forward_hooks \u001b[38;5;129;01mor\u001b[39;00m \u001b[38;5;28mself\u001b[39m\u001b[38;5;241m.\u001b[39m_forward_pre_hooks\n\u001b[0;32m   1745\u001b[0m         \u001b[38;5;129;01mor\u001b[39;00m _global_backward_pre_hooks \u001b[38;5;129;01mor\u001b[39;00m _global_backward_hooks\n\u001b[0;32m   1746\u001b[0m         \u001b[38;5;129;01mor\u001b[39;00m _global_forward_hooks \u001b[38;5;129;01mor\u001b[39;00m _global_forward_pre_hooks):\n\u001b[1;32m-> 1747\u001b[0m     \u001b[38;5;28;01mreturn\u001b[39;00m forward_call(\u001b[38;5;241m*\u001b[39margs, \u001b[38;5;241m*\u001b[39m\u001b[38;5;241m*\u001b[39mkwargs)\n\u001b[0;32m   1749\u001b[0m result \u001b[38;5;241m=\u001b[39m \u001b[38;5;28;01mNone\u001b[39;00m\n\u001b[0;32m   1750\u001b[0m called_always_called_hooks \u001b[38;5;241m=\u001b[39m \u001b[38;5;28mset\u001b[39m()\n",
      "File \u001b[1;32mc:\\Users\\nnvuf\\AppData\\Local\\Programs\\Python\\Python310\\lib\\site-packages\\torch\\nn\\modules\\conv.py:554\u001b[0m, in \u001b[0;36mConv2d.forward\u001b[1;34m(self, input)\u001b[0m\n\u001b[0;32m    553\u001b[0m \u001b[38;5;28;01mdef\u001b[39;00m\u001b[38;5;250m \u001b[39m\u001b[38;5;21mforward\u001b[39m(\u001b[38;5;28mself\u001b[39m, \u001b[38;5;28minput\u001b[39m: Tensor) \u001b[38;5;241m-\u001b[39m\u001b[38;5;241m>\u001b[39m Tensor:\n\u001b[1;32m--> 554\u001b[0m     \u001b[38;5;28;01mreturn\u001b[39;00m \u001b[38;5;28;43mself\u001b[39;49m\u001b[38;5;241;43m.\u001b[39;49m\u001b[43m_conv_forward\u001b[49m\u001b[43m(\u001b[49m\u001b[38;5;28;43minput\u001b[39;49m\u001b[43m,\u001b[49m\u001b[43m \u001b[49m\u001b[38;5;28;43mself\u001b[39;49m\u001b[38;5;241;43m.\u001b[39;49m\u001b[43mweight\u001b[49m\u001b[43m,\u001b[49m\u001b[43m \u001b[49m\u001b[38;5;28;43mself\u001b[39;49m\u001b[38;5;241;43m.\u001b[39;49m\u001b[43mbias\u001b[49m\u001b[43m)\u001b[49m\n",
      "File \u001b[1;32mc:\\Users\\nnvuf\\AppData\\Local\\Programs\\Python\\Python310\\lib\\site-packages\\torch\\nn\\modules\\conv.py:549\u001b[0m, in \u001b[0;36mConv2d._conv_forward\u001b[1;34m(self, input, weight, bias)\u001b[0m\n\u001b[0;32m    537\u001b[0m \u001b[38;5;28;01mif\u001b[39;00m \u001b[38;5;28mself\u001b[39m\u001b[38;5;241m.\u001b[39mpadding_mode \u001b[38;5;241m!=\u001b[39m \u001b[38;5;124m\"\u001b[39m\u001b[38;5;124mzeros\u001b[39m\u001b[38;5;124m\"\u001b[39m:\n\u001b[0;32m    538\u001b[0m     \u001b[38;5;28;01mreturn\u001b[39;00m F\u001b[38;5;241m.\u001b[39mconv2d(\n\u001b[0;32m    539\u001b[0m         F\u001b[38;5;241m.\u001b[39mpad(\n\u001b[0;32m    540\u001b[0m             \u001b[38;5;28minput\u001b[39m, \u001b[38;5;28mself\u001b[39m\u001b[38;5;241m.\u001b[39m_reversed_padding_repeated_twice, mode\u001b[38;5;241m=\u001b[39m\u001b[38;5;28mself\u001b[39m\u001b[38;5;241m.\u001b[39mpadding_mode\n\u001b[1;32m   (...)\u001b[0m\n\u001b[0;32m    547\u001b[0m         \u001b[38;5;28mself\u001b[39m\u001b[38;5;241m.\u001b[39mgroups,\n\u001b[0;32m    548\u001b[0m     )\n\u001b[1;32m--> 549\u001b[0m \u001b[38;5;28;01mreturn\u001b[39;00m \u001b[43mF\u001b[49m\u001b[38;5;241;43m.\u001b[39;49m\u001b[43mconv2d\u001b[49m\u001b[43m(\u001b[49m\n\u001b[0;32m    550\u001b[0m \u001b[43m    \u001b[49m\u001b[38;5;28;43minput\u001b[39;49m\u001b[43m,\u001b[49m\u001b[43m \u001b[49m\u001b[43mweight\u001b[49m\u001b[43m,\u001b[49m\u001b[43m \u001b[49m\u001b[43mbias\u001b[49m\u001b[43m,\u001b[49m\u001b[43m \u001b[49m\u001b[38;5;28;43mself\u001b[39;49m\u001b[38;5;241;43m.\u001b[39;49m\u001b[43mstride\u001b[49m\u001b[43m,\u001b[49m\u001b[43m \u001b[49m\u001b[38;5;28;43mself\u001b[39;49m\u001b[38;5;241;43m.\u001b[39;49m\u001b[43mpadding\u001b[49m\u001b[43m,\u001b[49m\u001b[43m \u001b[49m\u001b[38;5;28;43mself\u001b[39;49m\u001b[38;5;241;43m.\u001b[39;49m\u001b[43mdilation\u001b[49m\u001b[43m,\u001b[49m\u001b[43m \u001b[49m\u001b[38;5;28;43mself\u001b[39;49m\u001b[38;5;241;43m.\u001b[39;49m\u001b[43mgroups\u001b[49m\n\u001b[0;32m    551\u001b[0m \u001b[43m\u001b[49m\u001b[43m)\u001b[49m\n",
      "\u001b[1;31mRuntimeError\u001b[0m: Input type (torch.FloatTensor) and weight type (torch.cuda.FloatTensor) should be the same or input should be a MKLDNN tensor and weight is a dense tensor"
     ]
    }
   ],
   "source": [
    "classifier_df = pd.DataFrame(columns=['key', 'dataset', 'model'])\n",
    "\n",
    "for name, dataset in datasets.items():\n",
    "\tfor model in embedded_models:\n",
    "\t\tprint(f'Getting features for {name} dataset with {model._get_name()}')\n",
    "\n",
    "\t\t# get the classifier model from the model\n",
    "\t\tclassifier_model = next((m for m in classifier_models if m.backbone._get_name() == model._get_name()), None)\n",
    "\t\tif classifier_model is None:\n",
    "\t\t\tprint(f'Classifier model not found for {model._get_name()}')\n",
    "\t\t\tcontinue\n",
    "\n",
    "\t\tmodel_dataset = ds.EmbeddedDataset(dataset, model)\n",
    "\n",
    "\t\tclassifier_df = pd.concat([classifier_df, pd.DataFrame({\n",
    "\t\t\t\t'key': [f'{name}_{model._get_name()}'],\n",
    "\t\t\t\t'model': [classifier_model],\n",
    "\t\t\t\t'dataset': [model_dataset]\n",
    "\t\t})], ignore_index=True)\n",
    "\n",
    "\t\tprint(f'Finished getting features for {name} dataset with {model._get_name()}')\n"
   ]
  },
  {
   "cell_type": "markdown",
   "id": "baa0cc06",
   "metadata": {},
   "source": [
    "- Train all defined model on each registered datasets"
   ]
  },
  {
   "cell_type": "code",
   "execution_count": null,
   "id": "c21efd36",
   "metadata": {},
   "outputs": [],
   "source": [
    "result_df = pd.DataFrame(columns=['dataset', 'model', 'avg_loss', 'avg_accuracy', 'total_time'])\n",
    "\n",
    "for index, row in classifier_df.iterrows():\n",
    "\tdataset = row['dataset']\n",
    "\tmodel = row['model']\n",
    "\tkey = row['key']\n",
    "\n",
    "\tprint(f'Running {key} dataset with {model._get_name()}')\n",
    "\t# do the train\n",
    "\tstart_time = time.time()\n",
    "\tscored, loss = train_process(dataset, model)\n",
    "\tend_time = time.time()\n",
    "\ttotal_time = end_time - start_time\n",
    "\tprint(f'Finished {key} dataset with {model._get_name()}')\n",
    "\tprint('----------------------')\n",
    "\n",
    "\t# save the result\n",
    "\tresult_df = pd.concat([result_df, pd.DataFrame({\n",
    "\t\t\t'model': [model._get_name()],\n",
    "\t\t\t'dataset': [dataset.__class__.__name__],\n",
    "\t\t\t'avg_loss': [loss],\n",
    "\t\t\t'avg_accuracy': [scored],\n",
    "\t\t\t'total_time': [total_time]\n",
    "\t})], ignore_index=True)\n",
    "print('Finished training all models')\n"
   ]
  },
  {
   "cell_type": "markdown",
   "id": "8a1c5880",
   "metadata": {},
   "source": [
    "- Print the result"
   ]
  },
  {
   "cell_type": "code",
   "execution_count": null,
   "id": "16dbf0a6",
   "metadata": {},
   "outputs": [],
   "source": [
    "# swap the first two columns\n",
    "result_df = result_df[['dataset', 'model', 'avg_loss', 'avg_accuracy', 'total_time']]\n",
    "# scale the avg_accuracy to 0-100\n",
    "result_df['avg_accuracy'] = 100 * (1 - result_df['avg_accuracy'])\n",
    "# display the total time in the format HH:MM:SS\n",
    "result_df['total_time'] = pd.to_timedelta(result_df['total_time'], unit='s')\n",
    "\n",
    "# save the result to csv\n",
    "result_df.to_csv(f'results_{time_str}.csv', index=False)\n",
    "# print the result\n",
    "print(result_df)\n"
   ]
  },
  {
   "cell_type": "code",
   "execution_count": null,
   "id": "188561ba",
   "metadata": {},
   "outputs": [],
   "source": []
  },
  {
   "cell_type": "code",
   "execution_count": null,
   "id": "73b2e834",
   "metadata": {},
   "outputs": [],
   "source": [
    "models = [\n",
    "\ttorchvision.models.resnet50(weights=torchvision.models.ResNet50_Weights.DEFAULT),\n",
    "  torchvision.models.densenet121(weights=torchvision.models.DenseNet121_Weights.DEFAULT),\n",
    "  torchvision.models.vgg16(weights=torchvision.models.VGG16_Weights.DEFAULT)\n",
    "]\n",
    "\n",
    "for model in models:\n",
    "  # explore the model\n",
    "\tprint(f'Model: {model.__class__.__name__}')\n",
    "\t\n",
    "\t# explain the model\n",
    "\tprint(f'Number of layers: {len(list(model.children()))}')\n",
    "\tprint(model)"
   ]
  },
  {
   "cell_type": "code",
   "execution_count": null,
   "id": "c804849b",
   "metadata": {},
   "outputs": [],
   "source": []
  }
 ],
 "metadata": {
  "kernelspec": {
   "display_name": "Python 3",
   "language": "python",
   "name": "python3"
  },
  "language_info": {
   "codemirror_mode": {
    "name": "ipython",
    "version": 3
   },
   "file_extension": ".py",
   "mimetype": "text/x-python",
   "name": "python",
   "nbconvert_exporter": "python",
   "pygments_lexer": "ipython3",
   "version": "3.10.11"
  }
 },
 "nbformat": 4,
 "nbformat_minor": 5
}
